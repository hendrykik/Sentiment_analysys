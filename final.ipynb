{
 "cells": [
  {
   "cell_type": "code",
   "execution_count": 24,
   "metadata": {},
   "outputs": [],
   "source": [
    "import pandas as pd\n",
    "import re\n",
    "from datetime import datetime\n",
    "from sklearn.feature_extraction.text import TfidfVectorizer\n",
    "from keras.callbacks import EarlyStopping\n",
    "from keras.optimizers import Adam\n",
    "import matplotlib.pyplot as plt\n",
    "import seaborn as sns\n",
    "import tensorflow as tf\n",
    "from tensorflow.keras.preprocessing.text import Tokenizer\n",
    "from tensorflow.keras.preprocessing.sequence import pad_sequences\n",
    "from tensorflow.keras.models import Sequential\n",
    "from tensorflow.keras.layers import Embedding, LSTM, Dense, Dropout, Conv1D, GlobalMaxPooling1D, GRU\n",
    "from sklearn.model_selection import train_test_split\n",
    "import numpy as np\n",
    "from torch.utils.data import Dataset\n",
    "from keras_tuner import RandomSearch\n",
    "import nltk\n",
    "from nltk.corpus import stopwords\n",
    "from nltk.stem import WordNetLemmatizer\n",
    "from nltk.tokenize import word_tokenize\n",
    "from sklearn.metrics import confusion_matrix, classification_report, f1_score, accuracy_score, precision_score, recall_score, roc_auc_score, roc_curve\n"
   ]
  },
  {
   "cell_type": "code",
   "execution_count": 2,
   "metadata": {},
   "outputs": [],
   "source": [
    "# za 1 razem pobrac\n",
    "# nltk.download('punkt')\n",
    "# nltk.download('wordnet')\n",
    "# nltk.download('stopwords')\n",
    "# nltk.download('punkt_tab')"
   ]
  },
  {
   "cell_type": "code",
   "execution_count": 3,
   "metadata": {},
   "outputs": [],
   "source": [
    "df = pd.read_csv('training.csv', header=None, names=['sentiment', 'id', 'date', 'query', 'user', 'text'], encoding='ISO-8859-1')\n",
    "df = df.drop(columns=['query', 'id', 'user', 'date'])"
   ]
  },
  {
   "cell_type": "code",
   "execution_count": 4,
   "metadata": {},
   "outputs": [
    {
     "name": "stderr",
     "output_type": "stream",
     "text": [
      "C:\\Users\\Radosz\\AppData\\Local\\Temp\\ipykernel_19408\\1493389583.py:4: FutureWarning: \n",
      "\n",
      "Passing `palette` without assigning `hue` is deprecated and will be removed in v0.14.0. Assign the `x` variable to `hue` and set `legend=False` for the same effect.\n",
      "\n",
      "  sns.barplot(x=sentiment_counts.index, y=sentiment_counts.values, palette=\"viridis\")\n"
     ]
    },
    {
     "data": {
      "image/png": "[encoded data removed]",
      "text/plain": [
       "<Figure size 800x600 with 1 Axes>"
      ]
     },
     "metadata": {},
     "output_type": "display_data"
    }
   ],
   "source": [
    "sentiment_counts = df['sentiment'].value_counts()\n",
    "\n",
    "plt.figure(figsize=(8, 6))\n",
    "sns.barplot(x=sentiment_counts.index, y=sentiment_counts.values, palette=\"viridis\")\n",
    "plt.title(\"Number of Sentiment Classes\")\n",
    "plt.xlabel(\"Sentiment Class\")\n",
    "plt.ylabel(\"Count\")\n",
    "plt.show()"
   ]
  },
  {
   "cell_type": "code",
   "execution_count": 5,
   "metadata": {},
   "outputs": [],
   "source": [
    "lemmatizer = WordNetLemmatizer()\n",
    "stop_words = set(stopwords.words('english'))"
   ]
  },
  {
   "cell_type": "code",
   "execution_count": 6,
   "metadata": {},
   "outputs": [],
   "source": [
    "def count_hashtags(text):\n",
    "    return len(re.findall(r'#', text))\n",
    "\n",
    "def clean_text(text):\n",
    "    text = text.lower()\n",
    "    text = re.sub(r'http\\S+', '', text)\n",
    "    text = re.sub(r'@\\w+|#\\w+', '', text)\n",
    "    \n",
    "    # Remove numbers (optional: uncomment if needed)\n",
    "    # text = re.sub(r'\\d+', '', text)\n",
    "    text = re.sub(r'[^\\w\\s]', '', text)\n",
    "    tokens = word_tokenize(text)\n",
    "    tokens = [lemmatizer.lemmatize(word) for word in tokens if word not in stop_words]\n",
    "    return ' '.join(tokens)\n",
    "\n",
    "df['hashtag_count'] = df['text'].apply(count_hashtags)"
   ]
  },
  {
   "cell_type": "code",
   "execution_count": 7,
   "metadata": {},
   "outputs": [
    {
     "data": {
      "text/html": [
       "<div>\n",
       "<style scoped>\n",
       "    .dataframe tbody tr th:only-of-type {\n",
       "        vertical-align: middle;\n",
       "    }\n",
       "\n",
       "    .dataframe tbody tr th {\n",
       "        vertical-align: top;\n",
       "    }\n",
       "\n",
       "    .dataframe thead th {\n",
       "        text-align: right;\n",
       "    }\n",
       "</style>\n",
       "<table border=\"1\" class=\"dataframe\">\n",
       "  <thead>\n",
       "    <tr style=\"text-align: right;\">\n",
       "      <th></th>\n",
       "      <th>sentiment</th>\n",
       "      <th>text</th>\n",
       "      <th>hashtag_count</th>\n",
       "      <th>cleaned_text</th>\n",
       "    </tr>\n",
       "  </thead>\n",
       "  <tbody>\n",
       "    <tr>\n",
       "      <th>0</th>\n",
       "      <td>0</td>\n",
       "      <td>@switchfoot http://twitpic.com/2y1zl - Awww, t...</td>\n",
       "      <td>0</td>\n",
       "      <td>awww thats bummer shoulda got david carr third...</td>\n",
       "    </tr>\n",
       "    <tr>\n",
       "      <th>1</th>\n",
       "      <td>0</td>\n",
       "      <td>is upset that he can't update his Facebook by ...</td>\n",
       "      <td>0</td>\n",
       "      <td>upset cant update facebook texting might cry r...</td>\n",
       "    </tr>\n",
       "    <tr>\n",
       "      <th>2</th>\n",
       "      <td>0</td>\n",
       "      <td>@Kenichan I dived many times for the ball. Man...</td>\n",
       "      <td>0</td>\n",
       "      <td>dived many time ball managed save 50 rest go b...</td>\n",
       "    </tr>\n",
       "    <tr>\n",
       "      <th>3</th>\n",
       "      <td>0</td>\n",
       "      <td>my whole body feels itchy and like its on fire</td>\n",
       "      <td>0</td>\n",
       "      <td>whole body feel itchy like fire</td>\n",
       "    </tr>\n",
       "    <tr>\n",
       "      <th>4</th>\n",
       "      <td>0</td>\n",
       "      <td>@nationwideclass no, it's not behaving at all....</td>\n",
       "      <td>0</td>\n",
       "      <td>behaving im mad cant see</td>\n",
       "    </tr>\n",
       "    <tr>\n",
       "      <th>...</th>\n",
       "      <td>...</td>\n",
       "      <td>...</td>\n",
       "      <td>...</td>\n",
       "      <td>...</td>\n",
       "    </tr>\n",
       "    <tr>\n",
       "      <th>1599995</th>\n",
       "      <td>4</td>\n",
       "      <td>Just woke up. Having no school is the best fee...</td>\n",
       "      <td>0</td>\n",
       "      <td>woke school best feeling ever</td>\n",
       "    </tr>\n",
       "    <tr>\n",
       "      <th>1599996</th>\n",
       "      <td>4</td>\n",
       "      <td>TheWDB.com - Very cool to hear old Walt interv...</td>\n",
       "      <td>0</td>\n",
       "      <td>thewdbcom cool hear old walt interview â</td>\n",
       "    </tr>\n",
       "    <tr>\n",
       "      <th>1599997</th>\n",
       "      <td>4</td>\n",
       "      <td>Are you ready for your MoJo Makeover? Ask me f...</td>\n",
       "      <td>0</td>\n",
       "      <td>ready mojo makeover ask detail</td>\n",
       "    </tr>\n",
       "    <tr>\n",
       "      <th>1599998</th>\n",
       "      <td>4</td>\n",
       "      <td>Happy 38th Birthday to my boo of alll time!!! ...</td>\n",
       "      <td>0</td>\n",
       "      <td>happy 38th birthday boo alll time tupac amaru ...</td>\n",
       "    </tr>\n",
       "    <tr>\n",
       "      <th>1599999</th>\n",
       "      <td>4</td>\n",
       "      <td>happy #charitytuesday @theNSPCC @SparksCharity...</td>\n",
       "      <td>1</td>\n",
       "      <td>happy</td>\n",
       "    </tr>\n",
       "  </tbody>\n",
       "</table>\n",
       "<p>1600000 rows × 4 columns</p>\n",
       "</div>"
      ],
      "text/plain": [
       "         sentiment                                               text  \\\n",
       "0                0  @switchfoot http://twitpic.com/2y1zl - Awww, t...   \n",
       "1                0  is upset that he can't update his Facebook by ...   \n",
       "2                0  @Kenichan I dived many times for the ball. Man...   \n",
       "3                0    my whole body feels itchy and like its on fire    \n",
       "4                0  @nationwideclass no, it's not behaving at all....   \n",
       "...            ...                                                ...   \n",
       "1599995          4  Just woke up. Having no school is the best fee...   \n",
       "1599996          4  TheWDB.com - Very cool to hear old Walt interv...   \n",
       "1599997          4  Are you ready for your MoJo Makeover? Ask me f...   \n",
       "1599998          4  Happy 38th Birthday to my boo of alll time!!! ...   \n",
       "1599999          4  happy #charitytuesday @theNSPCC @SparksCharity...   \n",
       "\n",
       "         hashtag_count                                       cleaned_text  \n",
       "0                    0  awww thats bummer shoulda got david carr third...  \n",
       "1                    0  upset cant update facebook texting might cry r...  \n",
       "2                    0  dived many time ball managed save 50 rest go b...  \n",
       "3                    0                    whole body feel itchy like fire  \n",
       "4                    0                           behaving im mad cant see  \n",
       "...                ...                                                ...  \n",
       "1599995              0                      woke school best feeling ever  \n",
       "1599996              0           thewdbcom cool hear old walt interview â  \n",
       "1599997              0                     ready mojo makeover ask detail  \n",
       "1599998              0  happy 38th birthday boo alll time tupac amaru ...  \n",
       "1599999              1                                              happy  \n",
       "\n",
       "[1600000 rows x 4 columns]"
      ]
     },
     "execution_count": 7,
     "metadata": {},
     "output_type": "execute_result"
    }
   ],
   "source": [
    "df['cleaned_text'] = df['text'].apply(clean_text)\n",
    "df"
   ]
  },
  {
   "cell_type": "code",
   "execution_count": 8,
   "metadata": {},
   "outputs": [],
   "source": [
    "# Tokenizacja\n",
    "num_words=10000\n",
    "max_length = 20\n",
    "\n",
    "tokenizer = Tokenizer(num_words)\n",
    "tokenizer.fit_on_texts(df['text'])\n",
    "sequences = tokenizer.texts_to_sequences(df['text'])\n",
    "\n",
    "X_padded = pad_sequences(sequences, maxlen=max_length, padding='post', truncating='post')\n",
    "\n",
    "y_binary = [1 if label == 4 else 0 for label in df['sentiment']]"
   ]
  },
  {
   "cell_type": "code",
   "execution_count": 9,
   "metadata": {},
   "outputs": [],
   "source": [
    "# Podział na dane treningowe, walidacyjne i testowe\n",
    "X_train, X_temp, y_train, y_temp = train_test_split(X_padded, y_binary, test_size=0.3, stratify=y_binary, random_state=42)\n",
    "X_val, X_test, y_val, y_test = train_test_split(X_temp, y_temp, test_size=0.5, stratify=y_temp, random_state=42)\n",
    "X_train = X_train.astype('float32')\n",
    "X_val = X_val.astype('float32')\n",
    "X_test = X_test.astype('float32')\n",
    "y_train = np.array(y_train, dtype=np.int32)\n",
    "y_val = np.array(y_val, dtype=np.int32)\n",
    "y_test = np.array(y_test, dtype=np.int32)"
   ]
  },
  {
   "cell_type": "code",
   "execution_count": 10,
   "metadata": {},
   "outputs": [],
   "source": [
    "# Zbiory do wybory hiperparametrów\n",
    "X_train_subset = X_train[::10]\n",
    "y_train_subset = y_train[::10]\n",
    "X_val_subset = X_val[::10]\n",
    "y_val_subset = y_val[::10]"
   ]
  },
  {
   "cell_type": "code",
   "execution_count": 11,
   "metadata": {},
   "outputs": [
    {
     "data": {
      "text/plain": [
       "(112000, 20)"
      ]
     },
     "execution_count": 11,
     "metadata": {},
     "output_type": "execute_result"
    }
   ],
   "source": [
    "X_train_subset.shape"
   ]
  },
  {
   "cell_type": "code",
   "execution_count": 13,
   "metadata": {},
   "outputs": [
    {
     "name": "stdout",
     "output_type": "stream",
     "text": [
      "Trial 10 Complete [00h 03m 49s]\n",
      "val_loss: 0.4477944076061249\n",
      "\n",
      "Best val_loss So Far: 0.4394916594028473\n",
      "Total elapsed time: 00h 36m 33s\n",
      "Najlepsze hiperparametry:\n",
      "Liczba jednostek LSTM: 32\n",
      "Współczynnik dropout: 0.1\n",
      "Liczba jednostek Dense: 48\n",
      "Współczynnik uczenia: 0.0010624691555580386\n",
      "Rozmiar batcha: 64\n"
     ]
    },
    {
     "data": {
      "image/png": "[encoded data removed]",
      "text/plain": [
       "<Figure size 800x500 with 1 Axes>"
      ]
     },
     "metadata": {},
     "output_type": "display_data"
    }
   ],
   "source": [
    "\n",
    "def build_model(hp):\n",
    "    learning_rate = hp.Float('learning_rate', min_value=1e-4, max_value=1e-2, sampling='log')\n",
    "    optimizer = Adam(learning_rate=learning_rate)\n",
    "    \n",
    "    model = Sequential([\n",
    "        Embedding(\n",
    "            input_dim=num_words, \n",
    "            output_dim=hp.Choice('embedding_dim', [64, 128, 256])\n",
    "        ),\n",
    "        LSTM(\n",
    "            units=hp.Int('lstm_units', min_value=32, max_value=128, step=32), \n",
    "            return_sequences=False\n",
    "        ),\n",
    "        Dropout(rate=hp.Float('dropout_rate', min_value=0.0, max_value=0.5, step=0.1)),\n",
    "        Dense(\n",
    "            units=hp.Int('dense_units', min_value=16, max_value=128, step=16), \n",
    "            activation='relu'\n",
    "        ),\n",
    "        Dense(1, activation='sigmoid')\n",
    "    ])\n",
    "    \n",
    "    model.compile(\n",
    "        optimizer=optimizer,\n",
    "        loss='binary_crossentropy',\n",
    "        metrics=['accuracy', 'AUC']    )\n",
    "    return model\n",
    "\n",
    "# Random Search\n",
    "tuner_lstm = RandomSearch(\n",
    "    build_model,\n",
    "    objective='val_loss',\n",
    "    max_trials=10,\n",
    "    executions_per_trial=1,\n",
    "    directory='random_search_lstm_tuning',\n",
    "    project_name='lstm_tuning_with_lr'\n",
    ")\n",
    "\n",
    "# Zatrzymanie uczenia przy braku poprawy\n",
    "early_stopping = EarlyStopping(\n",
    "    monitor='val_loss', \n",
    "    patience=3,          \n",
    "    restore_best_weights=True  \n",
    ")\n",
    "\n",
    "# Wykonywanie wyszukiwania z EarlyStopping\n",
    "tuner_lstm.search(\n",
    "    X_train_subset, y_train_subset,\n",
    "    validation_data=(X_val_subset, y_val_subset),\n",
    "    epochs=10,\n",
    "    batch_size=tuner_lstm.oracle.hyperparameters.Choice('batch_size', [16, 32, 64]),\n",
    "    callbacks=[early_stopping]\n",
    ")\n",
    "\n",
    "# Pobranie najlepszych hiperparametrów\n",
    "best_hps_lstm = tuner_lstm.get_best_hyperparameters(num_trials=1)[0]\n",
    "print(f\"Najlepsze hiperparametry:\")\n",
    "print(f\"Liczba jednostek LSTM: {best_hps_lstm.get('lstm_units')}\")\n",
    "print(f\"Współczynnik dropout: {best_hps_lstm.get('dropout_rate')}\")\n",
    "print(f\"Liczba jednostek Dense: {best_hps_lstm.get('dense_units')}\")\n",
    "print(f\"Współczynnik uczenia: {best_hps_lstm.get('learning_rate')}\")\n",
    "print(f\"Rozmiar batcha: {best_hps_lstm.get('batch_size')}\")\n",
    "\n",
    "# 5. Wizualizacja wyników\n",
    "# Pobranie najlepszych prób\n",
    "best_trials_lstm = tuner_lstm.oracle.get_best_trials(num_trials=10)\n",
    "# Zbieranie wyników walidacyjnych tylko dla prób, które mają 'val_accuracy'\n",
    "val_accuracies = [\n",
    "    trial.metrics.metrics['val_accuracy'].get_history()[-1].value\n",
    "    for trial in best_trials_lstm\n",
    "    if 'val_accuracy' in trial.metrics.metrics and trial.metrics.metrics['val_accuracy'].get_history()\n",
    "]\n",
    "\n",
    "# Rysowanie wykresu tylko, jeśli mamy jakieś wyniki\n",
    "if val_accuracies:\n",
    "    plt.figure(figsize=(8, 5))\n",
    "    plt.plot(val_accuracies, marker='o', linestyle='--')\n",
    "    plt.title('Najlepsze wyniki walidacji dla różnych prób')\n",
    "    plt.xlabel('Próba')\n",
    "    plt.ylabel('Dokładność walidacyjna (val_accuracy)')\n",
    "    plt.grid(True)\n",
    "    plt.show()\n",
    "else:\n",
    "    print(\"Brak wyników walidacyjnych do wizualizacji.\")"
   ]
  },
  {
   "cell_type": "code",
   "execution_count": 15,
   "metadata": {},
   "outputs": [
    {
     "name": "stdout",
     "output_type": "stream",
     "text": [
      "Trial 10 Complete [00h 01m 18s]\n",
      "val_loss: 0.46898168325424194\n",
      "\n",
      "Best val_loss So Far: 0.4445075988769531\n",
      "Total elapsed time: 00h 32m 03s\n",
      "Najlepsze hiperparametry:\n",
      "Liczba filtrów w Conv1D: 128\n",
      "Rozmiar jądra (kernel_size): 5\n",
      "Liczba jednostek Dense: 80\n",
      "Współczynnik dropout: 0.2\n",
      "Współczynnik uczenia: 0.0003021384939866327\n",
      "Rozmiar batcha: 16\n"
     ]
    },
    {
     "data": {
      "image/png": "[encoded data removed]",
      "text/plain": [
       "<Figure size 800x500 with 1 Axes>"
      ]
     },
     "metadata": {},
     "output_type": "display_data"
    }
   ],
   "source": [
    "def build_model(hp):\n",
    "    learning_rate = hp.Float('learning_rate', min_value=1e-4, max_value=1e-2, sampling='log')\n",
    "    optimizer = Adam(learning_rate=learning_rate)\n",
    "    \n",
    "    model = Sequential([\n",
    "        Embedding(\n",
    "            input_dim=num_words, \n",
    "            output_dim=hp.Choice('embedding_dim', [64, 128, 256])\n",
    "        ),\n",
    "        Conv1D(\n",
    "            filters=hp.Int('conv_filters', min_value=32, max_value=128, step=32), \n",
    "            kernel_size=hp.Choice('kernel_size', [3, 5, 7]), \n",
    "            activation='relu'\n",
    "        ),\n",
    "        GlobalMaxPooling1D(),\n",
    "        Dropout(rate=hp.Float('dropout_rate', min_value=0.2, max_value=0.5, step=0.1)),\n",
    "        Dense(\n",
    "            units=hp.Int('dense_units', min_value=16, max_value=128, step=16), \n",
    "            activation='relu'\n",
    "        ),\n",
    "        Dense(1, activation='sigmoid')\n",
    "    ])\n",
    "    \n",
    "    model.compile(\n",
    "        optimizer=optimizer,\n",
    "        loss='binary_crossentropy',\n",
    "        metrics=['accuracy', 'AUC'] )\n",
    "    return model\n",
    "\n",
    "# Random Search\n",
    "tuner_cnn = RandomSearch(\n",
    "    build_model,\n",
    "    objective='val_loss',\n",
    "    max_trials=10,  # Liczba prób Random Search\n",
    "    executions_per_trial=1,\n",
    "    directory='random_search_cnn_tuning',\n",
    "    project_name='cnn_tuning'\n",
    ")\n",
    "\n",
    "# EarlyStopping: zatrzymanie po braku poprawy\n",
    "\n",
    "early_stopping = EarlyStopping(\n",
    "    monitor='val_loss', \n",
    "    patience=3,  \n",
    "    restore_best_weights=True  \n",
    ")\n",
    "\n",
    "# Wyszukiwanie hiperparametrów\n",
    "tuner_cnn.search(\n",
    "    X_train_subset, y_train_subset,\n",
    "    validation_data=(X_val, y_val),\n",
    "    epochs=10,\n",
    "    batch_size=tuner_cnn.oracle.hyperparameters.Choice('batch_size', [16, 32, 64]),\n",
    "    callbacks=[early_stopping]\n",
    ")\n",
    "\n",
    "# Najlepsze hiperparametry\n",
    "best_hps_cnn = tuner_cnn.get_best_hyperparameters(num_trials=1)[0]\n",
    "print(f\"Najlepsze hiperparametry:\")\n",
    "print(f\"Liczba filtrów w Conv1D: {best_hps_cnn.get('conv_filters')}\")\n",
    "print(f\"Rozmiar jądra (kernel_size): {best_hps_cnn.get('kernel_size')}\")\n",
    "print(f\"Liczba jednostek Dense: {best_hps_cnn.get('dense_units')}\")\n",
    "print(f\"Współczynnik dropout: {best_hps_cnn.get('dropout_rate')}\")\n",
    "print(f\"Współczynnik uczenia: {best_hps_cnn.get('learning_rate')}\")\n",
    "print(f\"Rozmiar batcha: {best_hps_cnn.get('batch_size')}\")\n",
    "\n",
    "best_trials_cnn = tuner_cnn.oracle.get_best_trials(num_trials=10)\n",
    "# Zbieranie wyników walidacyjnych tylko dla prób, które mają 'val_accuracy'\n",
    "val_accuracies_cnn = [\n",
    "    trial.metrics.metrics['val_accuracy'].get_history()[-1].value\n",
    "    for trial in best_trials_cnn\n",
    "    if 'val_accuracy' in trial.metrics.metrics and trial.metrics.metrics['val_accuracy'].get_history()\n",
    "]\n",
    "\n",
    "# Rysowanie wykresu tylko, jeśli mamy jakieś wyniki\n",
    "if val_accuracies_cnn:\n",
    "    plt.figure(figsize=(8, 5))\n",
    "    plt.plot(val_accuracies_cnn, marker='o', linestyle='--')\n",
    "    plt.title('Najlepsze wyniki walidacji dla różnych prób')\n",
    "    plt.xlabel('Próba')\n",
    "    plt.ylabel('Dokładność walidacyjna (val_accuracy)')\n",
    "    plt.grid(True)\n",
    "    plt.show()\n",
    "else:\n",
    "    print(\"Brak wyników walidacyjnych do wizualizacji.\")"
   ]
  },
  {
   "cell_type": "code",
   "execution_count": 17,
   "metadata": {},
   "outputs": [
    {
     "name": "stdout",
     "output_type": "stream",
     "text": [
      "Trial 10 Complete [00h 02m 50s]\n",
      "val_loss: 0.49856212735176086\n",
      "\n",
      "Best val_loss So Far: 0.440349817276001\n",
      "Total elapsed time: 00h 42m 48s\n",
      "Najlepsze hiperparametry:\n",
      "Liczba jednostek GRU: 96\n",
      "Współczynnik dropout: 0.1\n",
      "Liczba jednostek Dense: 32\n",
      "Współczynnik uczenia: 0.000381041931665807\n",
      "Rozmiar batcha: 64\n"
     ]
    },
    {
     "data": {
      "image/png": "[encoded data removed]",
      "text/plain": [
       "<Figure size 800x500 with 1 Axes>"
      ]
     },
     "metadata": {},
     "output_type": "display_data"
    }
   ],
   "source": [
    "def build_gru_model(hp):\n",
    "    learning_rate = hp.Float('learning_rate', min_value=1e-4, max_value=1e-2, sampling='log')\n",
    "    optimizer = Adam(learning_rate=learning_rate)\n",
    "    \n",
    "    model = Sequential([\n",
    "        Embedding(\n",
    "            input_dim=num_words, \n",
    "            output_dim=hp.Choice('embedding_dim', [64, 128, 256])\n",
    "        ),\n",
    "        GRU(\n",
    "            units=hp.Int('gru_units', min_value=32, max_value=128, step=32), \n",
    "            return_sequences=False\n",
    "        ),\n",
    "        Dropout(rate=hp.Float('dropout_rate', min_value=0.0, max_value=0.5, step=0.1)),\n",
    "        Dense(\n",
    "            units=hp.Int('dense_units', min_value=16, max_value=128, step=16), \n",
    "            activation='relu'\n",
    "        ),\n",
    "        Dense(1, activation='sigmoid')\n",
    "    ])\n",
    "    \n",
    "    model.compile(\n",
    "        optimizer=optimizer,\n",
    "        loss='binary_crossentropy',\n",
    "        metrics=['accuracy', 'AUC'])\n",
    "    return model\n",
    "\n",
    "# Random Search\n",
    "tuner_gru = RandomSearch(\n",
    "    build_gru_model,\n",
    "    objective='val_loss',\n",
    "    max_trials=10,\n",
    "    executions_per_trial=1,\n",
    "    directory='random_search_gru_tuning',\n",
    "    project_name='gru_tuning_with_lr'\n",
    ")\n",
    "\n",
    "# Zatrzymanie uczenia przy braku poprawy\n",
    "early_stopping_gru = EarlyStopping(\n",
    "    monitor='val_loss', \n",
    "    patience=3,          \n",
    "    restore_best_weights=True  \n",
    ")\n",
    "\n",
    "# Wykonywanie wyszukiwania z EarlyStopping\n",
    "tuner_gru.search(\n",
    "    X_train_subset, y_train_subset,\n",
    "    validation_data=(X_val_subset, y_val_subset),\n",
    "    epochs=10,\n",
    "    batch_size=tuner_gru.oracle.hyperparameters.Choice('batch_size', [16, 32, 64]),\n",
    "    callbacks=[early_stopping_gru]\n",
    ")\n",
    "\n",
    "# Pobranie najlepszych hiperparametrów\n",
    "best_hps_gru = tuner_gru.get_best_hyperparameters(num_trials=1)[0]\n",
    "print(f\"Najlepsze hiperparametry:\")\n",
    "print(f\"Liczba jednostek GRU: {best_hps_gru.get('gru_units')}\")\n",
    "print(f\"Współczynnik dropout: {best_hps_gru.get('dropout_rate')}\")\n",
    "print(f\"Liczba jednostek Dense: {best_hps_gru.get('dense_units')}\")\n",
    "print(f\"Współczynnik uczenia: {best_hps_gru.get('learning_rate')}\")\n",
    "print(f\"Rozmiar batcha: {best_hps_gru.get('batch_size')}\")\n",
    "\n",
    "# Wizualizacja wyników\n",
    "best_trials_gru = tuner_gru.oracle.get_best_trials(num_trials=10)\n",
    "val_accuracies_gru = [\n",
    "    trial.metrics.metrics['val_accuracy'].get_history()[-1].value\n",
    "    for trial in best_trials_gru\n",
    "    if 'val_accuracy' in trial.metrics.metrics and trial.metrics.metrics['val_accuracy'].get_history()\n",
    "]\n",
    "\n",
    "if val_accuracies_gru:\n",
    "    plt.figure(figsize=(8, 5))\n",
    "    plt.plot(val_accuracies_gru, marker='o', linestyle='--')\n",
    "    plt.title('Najlepsze wyniki walidacji dla różnych prób (GRU)')\n",
    "    plt.xlabel('Próba')\n",
    "    plt.ylabel('Dokładność walidacyjna (val_accuracy)')\n",
    "    plt.grid(True)\n",
    "    plt.show()\n",
    "else:\n",
    "    print(\"Brak wyników walidacyjnych do wizualizacji.\")\n"
   ]
  },
  {
   "cell_type": "code",
   "execution_count": 18,
   "metadata": {},
   "outputs": [
    {
     "name": "stdout",
     "output_type": "stream",
     "text": [
      "Epoch 1/10\n",
      "\u001b[1m17500/17500\u001b[0m \u001b[32m━━━━━━━━━━━━━━━━━━━━\u001b[0m\u001b[37m\u001b[0m \u001b[1m65s\u001b[0m 4ms/step - AUC: 0.8631 - accuracy: 0.7815 - loss: 0.4576 - val_AUC: 0.8975 - val_accuracy: 0.8149 - val_loss: 0.4060\n",
      "Epoch 2/10\n",
      "\u001b[1m17500/17500\u001b[0m \u001b[32m━━━━━━━━━━━━━━━━━━━━\u001b[0m\u001b[37m\u001b[0m \u001b[1m63s\u001b[0m 4ms/step - AUC: 0.9050 - accuracy: 0.8228 - loss: 0.3898 - val_AUC: 0.9019 - val_accuracy: 0.8200 - val_loss: 0.3957\n",
      "Epoch 3/10\n",
      "\u001b[1m17500/17500\u001b[0m \u001b[32m━━━━━━━━━━━━━━━━━━━━\u001b[0m\u001b[37m\u001b[0m \u001b[1m63s\u001b[0m 4ms/step - AUC: 0.9143 - accuracy: 0.8328 - loss: 0.3711 - val_AUC: 0.9029 - val_accuracy: 0.8212 - val_loss: 0.3941\n",
      "Epoch 4/10\n",
      "\u001b[1m17500/17500\u001b[0m \u001b[32m━━━━━━━━━━━━━━━━━━━━\u001b[0m\u001b[37m\u001b[0m \u001b[1m63s\u001b[0m 4ms/step - AUC: 0.9214 - accuracy: 0.8410 - loss: 0.3561 - val_AUC: 0.9019 - val_accuracy: 0.8206 - val_loss: 0.3984\n",
      "Epoch 5/10\n",
      "\u001b[1m17500/17500\u001b[0m \u001b[32m━━━━━━━━━━━━━━━━━━━━\u001b[0m\u001b[37m\u001b[0m \u001b[1m63s\u001b[0m 4ms/step - AUC: 0.9287 - accuracy: 0.8490 - loss: 0.3396 - val_AUC: 0.9003 - val_accuracy: 0.8191 - val_loss: 0.4068\n",
      "Epoch 6/10\n",
      "\u001b[1m17500/17500\u001b[0m \u001b[32m━━━━━━━━━━━━━━━━━━━━\u001b[0m\u001b[37m\u001b[0m \u001b[1m64s\u001b[0m 4ms/step - AUC: 0.9346 - accuracy: 0.8571 - loss: 0.3258 - val_AUC: 0.8976 - val_accuracy: 0.8172 - val_loss: 0.4124\n",
      "Epoch 7/10\n",
      "\u001b[1m17500/17500\u001b[0m \u001b[32m━━━━━━━━━━━━━━━━━━━━\u001b[0m\u001b[37m\u001b[0m \u001b[1m65s\u001b[0m 4ms/step - AUC: 0.9400 - accuracy: 0.8641 - loss: 0.3124 - val_AUC: 0.8957 - val_accuracy: 0.8157 - val_loss: 0.4179\n",
      "Epoch 8/10\n",
      "\u001b[1m17500/17500\u001b[0m \u001b[32m━━━━━━━━━━━━━━━━━━━━\u001b[0m\u001b[37m\u001b[0m \u001b[1m66s\u001b[0m 4ms/step - AUC: 0.9448 - accuracy: 0.8706 - loss: 0.2999 - val_AUC: 0.8928 - val_accuracy: 0.8141 - val_loss: 0.4331\n",
      "Epoch 9/10\n",
      "\u001b[1m17500/17500\u001b[0m \u001b[32m━━━━━━━━━━━━━━━━━━━━\u001b[0m\u001b[37m\u001b[0m \u001b[1m65s\u001b[0m 4ms/step - AUC: 0.9491 - accuracy: 0.8759 - loss: 0.2881 - val_AUC: 0.8905 - val_accuracy: 0.8124 - val_loss: 0.4386\n",
      "Epoch 10/10\n",
      "\u001b[1m17500/17500\u001b[0m \u001b[32m━━━━━━━━━━━━━━━━━━━━\u001b[0m\u001b[37m\u001b[0m \u001b[1m65s\u001b[0m 4ms/step - AUC: 0.9530 - accuracy: 0.8812 - loss: 0.2772 - val_AUC: 0.8880 - val_accuracy: 0.8105 - val_loss: 0.4699\n",
      "\u001b[1m7500/7500\u001b[0m \u001b[32m━━━━━━━━━━━━━━━━━━━━\u001b[0m\u001b[37m\u001b[0m \u001b[1m9s\u001b[0m 1ms/step - AUC: 0.8870 - accuracy: 0.8092 - loss: 0.4717\n"
     ]
    },
    {
     "name": "stderr",
     "output_type": "stream",
     "text": [
      "WARNING:absl:You are saving your model as an HDF5 file via `model.save()` or `keras.saving.save_model(model)`. This file format is considered legacy. We recommend using instead the native Keras format, e.g. `model.save('my_model.keras')` or `keras.saving.save_model(model, 'my_model.keras')`. \n"
     ]
    },
    {
     "name": "stdout",
     "output_type": "stream",
     "text": [
      "Final Loss, Accuracy: [0.46993401646614075, 0.8105124831199646, 0.8879654407501221]\n"
     ]
    }
   ],
   "source": [
    "best_model_lstm = tuner_lstm.hypermodel.build(best_hps_lstm)\n",
    "history_lstm = best_model_lstm.fit(\n",
    "    X_train, y_train,\n",
    "    validation_data=(X_val, y_val),\n",
    "    epochs=10,\n",
    "    batch_size=best_hps_lstm.get('batch_size')\n",
    ")\n",
    "\n",
    "# Ewaluacja\n",
    "results_gru = best_model_lstm.evaluate(X_val, y_val)\n",
    "print(\"Final Loss, Accuracy:\", results_gru)\n",
    "\n",
    "# Zapis najlepszego modelu\n",
    "best_model_lstm.save(\"models/best_lstm_sentiment_model.h5\")"
   ]
  },
  {
   "cell_type": "code",
   "execution_count": 20,
   "metadata": {},
   "outputs": [
    {
     "name": "stdout",
     "output_type": "stream",
     "text": [
      "Epoch 1/10\n",
      "\u001b[1m70000/70000\u001b[0m \u001b[32m━━━━━━━━━━━━━━━━━━━━\u001b[0m\u001b[37m\u001b[0m \u001b[1m614s\u001b[0m 9ms/step - AUC: 0.8641 - accuracy: 0.7816 - loss: 0.4562 - val_AUC: 0.8970 - val_accuracy: 0.8148 - val_loss: 0.4054\n",
      "Epoch 2/10\n",
      "\u001b[1m70000/70000\u001b[0m \u001b[32m━━━━━━━━━━━━━━━━━━━━\u001b[0m\u001b[37m\u001b[0m \u001b[1m512s\u001b[0m 7ms/step - AUC: 0.9040 - accuracy: 0.8220 - loss: 0.3918 - val_AUC: 0.9000 - val_accuracy: 0.8172 - val_loss: 0.4010\n",
      "Epoch 3/10\n",
      "\u001b[1m70000/70000\u001b[0m \u001b[32m━━━━━━━━━━━━━━━━━━━━\u001b[0m\u001b[37m\u001b[0m \u001b[1m488s\u001b[0m 7ms/step - AUC: 0.9159 - accuracy: 0.8355 - loss: 0.3681 - val_AUC: 0.9007 - val_accuracy: 0.8182 - val_loss: 0.3995\n",
      "Epoch 4/10\n",
      "\u001b[1m70000/70000\u001b[0m \u001b[32m━━━━━━━━━━━━━━━━━━━━\u001b[0m\u001b[37m\u001b[0m \u001b[1m490s\u001b[0m 7ms/step - AUC: 0.9262 - accuracy: 0.8475 - loss: 0.3457 - val_AUC: 0.8993 - val_accuracy: 0.8178 - val_loss: 0.4023\n",
      "Epoch 5/10\n",
      "\u001b[1m70000/70000\u001b[0m \u001b[32m━━━━━━━━━━━━━━━━━━━━\u001b[0m\u001b[37m\u001b[0m \u001b[1m492s\u001b[0m 7ms/step - AUC: 0.9338 - accuracy: 0.8565 - loss: 0.3278 - val_AUC: 0.8972 - val_accuracy: 0.8150 - val_loss: 0.4100\n",
      "Epoch 6/10\n",
      "\u001b[1m70000/70000\u001b[0m \u001b[32m━━━━━━━━━━━━━━━━━━━━\u001b[0m\u001b[37m\u001b[0m \u001b[1m494s\u001b[0m 7ms/step - AUC: 0.9419 - accuracy: 0.8675 - loss: 0.3078 - val_AUC: 0.8947 - val_accuracy: 0.8139 - val_loss: 0.4169\n",
      "Epoch 7/10\n",
      "\u001b[1m70000/70000\u001b[0m \u001b[32m━━━━━━━━━━━━━━━━━━━━\u001b[0m\u001b[37m\u001b[0m \u001b[1m497s\u001b[0m 7ms/step - AUC: 0.9489 - accuracy: 0.8763 - loss: 0.2888 - val_AUC: 0.8930 - val_accuracy: 0.8127 - val_loss: 0.4250\n",
      "Epoch 8/10\n",
      "\u001b[1m70000/70000\u001b[0m \u001b[32m━━━━━━━━━━━━━━━━━━━━\u001b[0m\u001b[37m\u001b[0m \u001b[1m499s\u001b[0m 7ms/step - AUC: 0.9542 - accuracy: 0.8836 - loss: 0.2737 - val_AUC: 0.8879 - val_accuracy: 0.8087 - val_loss: 0.4514\n",
      "Epoch 9/10\n",
      "\u001b[1m70000/70000\u001b[0m \u001b[32m━━━━━━━━━━━━━━━━━━━━\u001b[0m\u001b[37m\u001b[0m \u001b[1m500s\u001b[0m 7ms/step - AUC: 0.9592 - accuracy: 0.8908 - loss: 0.2583 - val_AUC: 0.8860 - val_accuracy: 0.8080 - val_loss: 0.4586\n",
      "Epoch 10/10\n",
      "\u001b[1m70000/70000\u001b[0m \u001b[32m━━━━━━━━━━━━━━━━━━━━\u001b[0m\u001b[37m\u001b[0m \u001b[1m502s\u001b[0m 7ms/step - AUC: 0.9635 - accuracy: 0.8975 - loss: 0.2442 - val_AUC: 0.8790 - val_accuracy: 0.8010 - val_loss: 0.4745\n",
      "\u001b[1m7500/7500\u001b[0m \u001b[32m━━━━━━━━━━━━━━━━━━━━\u001b[0m\u001b[37m\u001b[0m \u001b[1m8s\u001b[0m 1ms/step - AUC: 0.8779 - accuracy: 0.8005 - loss: 0.4773\n"
     ]
    },
    {
     "name": "stderr",
     "output_type": "stream",
     "text": [
      "WARNING:absl:You are saving your model as an HDF5 file via `model.save()` or `keras.saving.save_model(model)`. This file format is considered legacy. We recommend using instead the native Keras format, e.g. `model.save('my_model.keras')` or `keras.saving.save_model(model, 'my_model.keras')`. \n"
     ]
    },
    {
     "name": "stdout",
     "output_type": "stream",
     "text": [
      "Final Loss, Accuracy for CNN: [0.474547415971756, 0.8010083436965942, 0.8790205121040344]\n"
     ]
    }
   ],
   "source": [
    "# Trening najlepszego modelu CNN\n",
    "best_model_cnn = tuner_cnn.hypermodel.build(best_hps_cnn)\n",
    "history_cnn = best_model_cnn.fit(\n",
    "    X_train, y_train,\n",
    "    validation_data=(X_val, y_val),\n",
    "    epochs=10,\n",
    "    batch_size=best_hps_cnn.get('batch_size')\n",
    ")\n",
    "\n",
    "# Ewaluacja modelu CNN\n",
    "results_cnn = best_model_cnn.evaluate(X_val, y_val)\n",
    "print(\"Final Loss, Accuracy for CNN:\", results_cnn)\n",
    "\n",
    "# Zapis najlepszego modelu CNN\n",
    "best_model_cnn.save(\"models/best_cnn_sentiment_model.h5\")\n"
   ]
  },
  {
   "cell_type": "code",
   "execution_count": 21,
   "metadata": {},
   "outputs": [
    {
     "name": "stdout",
     "output_type": "stream",
     "text": [
      "Epoch 1/10\n",
      "\u001b[1m17500/17500\u001b[0m \u001b[32m━━━━━━━━━━━━━━━━━━━━\u001b[0m\u001b[37m\u001b[0m \u001b[1m208s\u001b[0m 12ms/step - AUC: 0.8559 - accuracy: 0.7728 - loss: 0.4634 - val_AUC: 0.8974 - val_accuracy: 0.8145 - val_loss: 0.4051\n",
      "Epoch 2/10\n",
      "\u001b[1m17500/17500\u001b[0m \u001b[32m━━━━━━━━━━━━━━━━━━━━\u001b[0m\u001b[37m\u001b[0m \u001b[1m230s\u001b[0m 13ms/step - AUC: 0.9044 - accuracy: 0.8222 - loss: 0.3907 - val_AUC: 0.9028 - val_accuracy: 0.8202 - val_loss: 0.3938\n",
      "Epoch 3/10\n",
      "\u001b[1m17500/17500\u001b[0m \u001b[32m━━━━━━━━━━━━━━━━━━━━\u001b[0m\u001b[37m\u001b[0m \u001b[1m230s\u001b[0m 13ms/step - AUC: 0.9152 - accuracy: 0.8341 - loss: 0.3693 - val_AUC: 0.9044 - val_accuracy: 0.8217 - val_loss: 0.3931\n",
      "Epoch 4/10\n",
      "\u001b[1m17500/17500\u001b[0m \u001b[32m━━━━━━━━━━━━━━━━━━━━\u001b[0m\u001b[37m\u001b[0m \u001b[1m231s\u001b[0m 13ms/step - AUC: 0.9230 - accuracy: 0.8427 - loss: 0.3526 - val_AUC: 0.9045 - val_accuracy: 0.8230 - val_loss: 0.3925\n",
      "Epoch 5/10\n",
      "\u001b[1m17500/17500\u001b[0m \u001b[32m━━━━━━━━━━━━━━━━━━━━\u001b[0m\u001b[37m\u001b[0m \u001b[1m232s\u001b[0m 13ms/step - AUC: 0.9308 - accuracy: 0.8522 - loss: 0.3350 - val_AUC: 0.9022 - val_accuracy: 0.8210 - val_loss: 0.3981\n",
      "Epoch 6/10\n",
      "\u001b[1m17500/17500\u001b[0m \u001b[32m━━━━━━━━━━━━━━━━━━━━\u001b[0m\u001b[37m\u001b[0m \u001b[1m232s\u001b[0m 13ms/step - AUC: 0.9391 - accuracy: 0.8630 - loss: 0.3150 - val_AUC: 0.8991 - val_accuracy: 0.8192 - val_loss: 0.4116\n",
      "Epoch 7/10\n",
      "\u001b[1m17500/17500\u001b[0m \u001b[32m━━━━━━━━━━━━━━━━━━━━\u001b[0m\u001b[37m\u001b[0m \u001b[1m231s\u001b[0m 13ms/step - AUC: 0.9462 - accuracy: 0.8718 - loss: 0.2963 - val_AUC: 0.8963 - val_accuracy: 0.8172 - val_loss: 0.4239\n",
      "Epoch 8/10\n",
      "\u001b[1m17500/17500\u001b[0m \u001b[32m━━━━━━━━━━━━━━━━━━━━\u001b[0m\u001b[37m\u001b[0m \u001b[1m232s\u001b[0m 13ms/step - AUC: 0.9532 - accuracy: 0.8821 - loss: 0.2767 - val_AUC: 0.8913 - val_accuracy: 0.8139 - val_loss: 0.4394\n",
      "Epoch 9/10\n",
      "\u001b[1m17500/17500\u001b[0m \u001b[32m━━━━━━━━━━━━━━━━━━━━\u001b[0m\u001b[37m\u001b[0m \u001b[1m232s\u001b[0m 13ms/step - AUC: 0.9600 - accuracy: 0.8919 - loss: 0.2560 - val_AUC: 0.8852 - val_accuracy: 0.8098 - val_loss: 0.4700\n",
      "Epoch 10/10\n",
      "\u001b[1m17500/17500\u001b[0m \u001b[32m━━━━━━━━━━━━━━━━━━━━\u001b[0m\u001b[37m\u001b[0m \u001b[1m232s\u001b[0m 13ms/step - AUC: 0.9656 - accuracy: 0.9009 - loss: 0.2371 - val_AUC: 0.8790 - val_accuracy: 0.8068 - val_loss: 0.5033\n",
      "\u001b[1m7500/7500\u001b[0m \u001b[32m━━━━━━━━━━━━━━━━━━━━\u001b[0m\u001b[37m\u001b[0m \u001b[1m15s\u001b[0m 2ms/step - AUC: 0.8777 - accuracy: 0.8067 - loss: 0.5076\n"
     ]
    },
    {
     "name": "stderr",
     "output_type": "stream",
     "text": [
      "WARNING:absl:You are saving your model as an HDF5 file via `model.save()` or `keras.saving.save_model(model)`. This file format is considered legacy. We recommend using instead the native Keras format, e.g. `model.save('my_model.keras')` or `keras.saving.save_model(model, 'my_model.keras')`. \n"
     ]
    },
    {
     "name": "stdout",
     "output_type": "stream",
     "text": [
      "Final Loss, Accuracy for GRU: [0.5032882690429688, 0.8067749738693237, 0.879001796245575]\n"
     ]
    }
   ],
   "source": [
    "# Trening najlepszego modelu GRU\n",
    "best_model_gru = tuner_gru.hypermodel.build(best_hps_gru)\n",
    "history_gru = best_model_gru.fit(\n",
    "    X_train, y_train,\n",
    "    validation_data=(X_val, y_val),\n",
    "    epochs=10,\n",
    "    batch_size=best_hps_gru.get('batch_size')\n",
    ")\n",
    "\n",
    "# Ewaluacja modelu GRU\n",
    "results_gru = best_model_gru.evaluate(X_val, y_val)\n",
    "print(\"Final Loss, Accuracy for GRU:\", results_gru)\n",
    "\n",
    "# Zapis najlepszego modelu GRU\n",
    "best_model_gru.save(\"models/best_gru_sentiment_model.h5\")\n"
   ]
  },
  {
   "cell_type": "code",
   "execution_count": 26,
   "metadata": {},
   "outputs": [
    {
     "name": "stdout",
     "output_type": "stream",
     "text": [
      "dict_keys(['__name__', '__doc__', '__package__', '__loader__', '__spec__', '__path__', '__file__', '__cached__', '__builtins__', 'inspect', 'keras_export', 'metric', 'reduction_metrics', 'accuracy_metrics', 'Accuracy', 'BinaryAccuracy', 'CategoricalAccuracy', 'SparseCategoricalAccuracy', 'SparseTopKCategoricalAccuracy', 'TopKCategoricalAccuracy', 'metrics_utils', 'confusion_metrics', 'AUC', 'FalseNegatives', 'FalsePositives', 'Precision', 'PrecisionAtRecall', 'Recall', 'RecallAtPrecision', 'SensitivityAtSpecificity', 'SpecificityAtSensitivity', 'TrueNegatives', 'TruePositives', 'f_score_metrics', 'F1Score', 'FBetaScore', 'hinge_metrics', 'CategoricalHinge', 'Hinge', 'SquaredHinge', 'iou_metrics', 'BinaryIoU', 'IoU', 'MeanIoU', 'OneHotIoU', 'OneHotMeanIoU', 'Metric', 'probabilistic_metrics', 'BinaryCrossentropy', 'CategoricalCrossentropy', 'KLDivergence', 'Poisson', 'SparseCategoricalCrossentropy', 'Mean', 'MeanMetricWrapper', 'Sum', 'regression_metrics', 'CosineSimilarity', 'LogCoshError', 'MeanAbsoluteError', 'MeanAbsolutePercentageError', 'MeanSquaredError', 'MeanSquaredLogarithmicError', 'R2Score', 'RootMeanSquaredError', 'serialization_lib', 'to_snake_case', 'ALL_OBJECTS', 'ALL_OBJECTS_DICT', 'serialize', 'deserialize', 'get'])\n"
     ]
    }
   ],
   "source": [
    "from keras.metrics import get\n",
    "print(get.__globals__.keys())"
   ]
  },
  {
   "cell_type": "code",
   "execution_count": 22,
   "metadata": {},
   "outputs": [],
   "source": [
    "from keras.models import load_model"
   ]
  },
  {
   "cell_type": "code",
   "execution_count": 28,
   "metadata": {},
   "outputs": [
    {
     "name": "stderr",
     "output_type": "stream",
     "text": [
      "WARNING:absl:Compiled the loaded model, but the compiled metrics have yet to be built. `model.compile_metrics` will be empty until you train or evaluate the model.\n"
     ]
    },
    {
     "name": "stdout",
     "output_type": "stream",
     "text": [
      "\u001b[1m7500/7500\u001b[0m \u001b[32m━━━━━━━━━━━━━━━━━━━━\u001b[0m\u001b[37m\u001b[0m \u001b[1m9s\u001b[0m 1ms/step\n",
      "Test F1 Score: 0.8104955476391351\n",
      "Test Precision: 0.8107181645065712\n",
      "Test Recall: 0.8105249999999999\n",
      "Test Accuracy: 0.810525\n",
      "Test ROC AUC: 0.88842134625\n"
     ]
    }
   ],
   "source": [
    "# Load the model and prepare the test data\n",
    "best_model_LSTM_evaluation = load_model('models/best_lstm_sentiment_model.h5')\n",
    "test_preds = best_model_LSTM_evaluation.predict(X_test)\n",
    "test_preds_binary = (test_preds > 0.5).astype(int)\n",
    "\n",
    "# Calculate metrics on test data\n",
    "test_f1 = f1_score(y_test, test_preds_binary, average='macro')\n",
    "test_precision = precision_score(y_test, test_preds_binary, average='macro')\n",
    "test_recall = recall_score(y_test, test_preds_binary, average='macro')\n",
    "test_accuracy = accuracy_score(y_test, test_preds_binary)\n",
    "test_auc = roc_auc_score(y_test, test_preds, average='macro')\n",
    "\n",
    "print('Test F1 Score:', test_f1)\n",
    "print('Test Precision:', test_precision)\n",
    "print('Test Recall:', test_recall)\n",
    "print('Test Accuracy:', test_accuracy)\n",
    "print('Test ROC AUC:', test_auc)\n",
    "\n"
   ]
  },
  {
   "cell_type": "code",
   "execution_count": 29,
   "metadata": {},
   "outputs": [
    {
     "name": "stderr",
     "output_type": "stream",
     "text": [
      "WARNING:absl:Compiled the loaded model, but the compiled metrics have yet to be built. `model.compile_metrics` will be empty until you train or evaluate the model.\n"
     ]
    },
    {
     "name": "stdout",
     "output_type": "stream",
     "text": [
      "\u001b[1m7500/7500\u001b[0m \u001b[32m━━━━━━━━━━━━━━━━━━━━\u001b[0m\u001b[37m\u001b[0m \u001b[1m8s\u001b[0m 1ms/step\n",
      "Test F1 Score: 0.8002104882289452\n",
      "Test Precision: 0.8002830279749404\n",
      "Test Recall: 0.8002208333333334\n",
      "Test Accuracy: 0.8002208333333334\n",
      "Test ROC AUC: 0.8784887034375\n"
     ]
    }
   ],
   "source": [
    "# Load the model and prepare the test data\n",
    "best_model_CNN_evaluation = load_model('models/best_cnn_sentiment_model.h5')\n",
    "test_preds = best_model_CNN_evaluation.predict(X_test)\n",
    "test_preds_binary = (test_preds > 0.5).astype(int)\n",
    "\n",
    "# Calculate metrics on test data\n",
    "test_f1 = f1_score(y_test, test_preds_binary, average='macro')\n",
    "test_precision = precision_score(y_test, test_preds_binary, average='macro')\n",
    "test_recall = recall_score(y_test, test_preds_binary, average='macro')\n",
    "test_accuracy = accuracy_score(y_test, test_preds_binary)\n",
    "test_auc = roc_auc_score(y_test, test_preds, average='macro')\n",
    "\n",
    "print('Test F1 Score:', test_f1)\n",
    "print('Test Precision:', test_precision)\n",
    "print('Test Recall:', test_recall)\n",
    "print('Test Accuracy:', test_accuracy)\n",
    "print('Test ROC AUC:', test_auc)"
   ]
  },
  {
   "cell_type": "code",
   "execution_count": null,
   "metadata": {},
   "outputs": [],
   "source": []
  },
  {
   "cell_type": "code",
   "execution_count": 30,
   "metadata": {},
   "outputs": [
    {
     "name": "stderr",
     "output_type": "stream",
     "text": [
      "WARNING:absl:Compiled the loaded model, but the compiled metrics have yet to be built. `model.compile_metrics` will be empty until you train or evaluate the model.\n"
     ]
    },
    {
     "name": "stdout",
     "output_type": "stream",
     "text": [
      "\u001b[1m7500/7500\u001b[0m \u001b[32m━━━━━━━━━━━━━━━━━━━━\u001b[0m\u001b[37m\u001b[0m \u001b[1m15s\u001b[0m 2ms/step\n",
      "Test F1 Score: 0.8053181016995679\n",
      "Test Precision: 0.8053379704481287\n",
      "Test Recall: 0.8053208333333334\n",
      "Test Accuracy: 0.8053208333333334\n",
      "Test ROC AUC: 0.8791459562847221\n"
     ]
    }
   ],
   "source": [
    "# Load the model and prepare the test data\n",
    "best_model_GRU_evaluation = load_model('models/best_gru_sentiment_model.h5')\n",
    "test_preds = best_model_GRU_evaluation.predict(X_test)\n",
    "test_preds_binary = (test_preds > 0.5).astype(int)\n",
    "\n",
    "# Calculate metrics on test data\n",
    "test_f1 = f1_score(y_test, test_preds_binary, average='macro')\n",
    "test_precision = precision_score(y_test, test_preds_binary, average='macro')\n",
    "test_recall = recall_score(y_test, test_preds_binary, average='macro')\n",
    "test_accuracy = accuracy_score(y_test, test_preds_binary)\n",
    "test_auc = roc_auc_score(y_test, test_preds, average='macro')\n",
    "\n",
    "print('Test F1 Score:', test_f1)\n",
    "print('Test Precision:', test_precision)\n",
    "print('Test Recall:', test_recall)\n",
    "print('Test Accuracy:', test_accuracy)\n",
    "print('Test ROC AUC:', test_auc)"
   ]
  },
  {
   "cell_type": "code",
   "execution_count": null,
   "metadata": {},
   "outputs": [],
   "source": []
  }
 ],
 "metadata": {
  "kernelspec": {
   "display_name": "venv",
   "language": "python",
   "name": "python3"
  },
  "language_info": {
   "codemirror_mode": {
    "name": "ipython",
    "version": 3
   },
   "file_extension": ".py",
   "mimetype": "text/x-python",
   "name": "python",
   "nbconvert_exporter": "python",
   "pygments_lexer": "ipython3",
   "version": "3.11.2"
  }
 },
 "nbformat": 4,
 "nbformat_minor": 2
}
