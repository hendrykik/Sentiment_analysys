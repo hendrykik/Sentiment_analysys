{
 "cells": [
  {
   "cell_type": "code",
   "execution_count": 35,
   "metadata": {},
   "outputs": [],
   "source": [
    "import pandas as pd\n",
    "import re\n",
    "from datetime import datetime\n",
    "from sklearn.feature_extraction.text import TfidfVectorizer\n",
    "import matplotlib.pyplot as plt\n",
    "import seaborn as sns\n",
    "import tensorflow as tf\n",
    "from tensorflow.keras.preprocessing.text import Tokenizer\n",
    "from tensorflow.keras.preprocessing.sequence import pad_sequences\n",
    "from tensorflow.keras.models import Sequential\n",
    "from tensorflow.keras.layers import Embedding, LSTM, Dense, Dropout, Conv1D, GlobalMaxPooling1D, GRU\n",
    "from sklearn.model_selection import train_test_split\n",
    "import numpy as np\n",
    "from transformers import BertTokenizer, BertForSequenceClassification, Trainer, TrainingArguments\n",
    "import torch\n",
    "from torch.utils.data import Dataset\n",
    "from keras_tuner import RandomSearch"
   ]
  },
  {
   "cell_type": "code",
   "execution_count": 8,
   "metadata": {},
   "outputs": [],
   "source": [
    "df = pd.read_csv('training.csv', header=None, names=['sentiment', 'id', 'date', 'query', 'user', 'text'], encoding='ISO-8859-1')\n",
    "df = df.drop(columns=['query', 'id', 'user', 'date'])"
   ]
  },
  {
   "cell_type": "code",
   "execution_count": 9,
   "metadata": {},
   "outputs": [
    {
     "name": "stderr",
     "output_type": "stream",
     "text": [
      "C:\\Users\\Radosz\\AppData\\Local\\Temp\\ipykernel_16396\\1493389583.py:4: FutureWarning: \n",
      "\n",
      "Passing `palette` without assigning `hue` is deprecated and will be removed in v0.14.0. Assign the `x` variable to `hue` and set `legend=False` for the same effect.\n",
      "\n",
      "  sns.barplot(x=sentiment_counts.index, y=sentiment_counts.values, palette=\"viridis\")\n"
     ]
    },
    {
     "data": {
      "image/png": "[encoded data removed]",
      "text/plain": [
       "<Figure size 800x600 with 1 Axes>"
      ]
     },
     "metadata": {},
     "output_type": "display_data"
    }
   ],
   "source": [
    "sentiment_counts = df['sentiment'].value_counts()\n",
    "\n",
    "plt.figure(figsize=(8, 6))\n",
    "sns.barplot(x=sentiment_counts.index, y=sentiment_counts.values, palette=\"viridis\")\n",
    "plt.title(\"Number of Sentiment Classes\")\n",
    "plt.xlabel(\"Sentiment Class\")\n",
    "plt.ylabel(\"Count\")\n",
    "plt.show()"
   ]
  },
  {
   "cell_type": "code",
   "execution_count": 10,
   "metadata": {},
   "outputs": [],
   "source": [
    "def count_hashtags(text):\n",
    "    return len(re.findall(r'#', text))\n",
    "\n",
    "def clean_text(text):\n",
    "    text = text.lower()  # Lowercase the text\n",
    "    text = re.sub(r'http\\S+', '', text)  # Remove URLs\n",
    "    text = re.sub(r'@\\w+', '', text)  # Remove mentions\n",
    "    text = re.sub(r'#\\w+', '', text)  # Remove hashtags and following text\n",
    "    text = re.sub(r'[^\\w\\s]', '', text)  # Remove punctuation\n",
    "    text = re.sub(r'\\s+', ' ', text).strip()  # Remove extra spaces\n",
    "    return text\n",
    "\n",
    "df['hashtag_count'] = df['text'].apply(count_hashtags)"
   ]
  },
  {
   "cell_type": "code",
   "execution_count": 11,
   "metadata": {},
   "outputs": [
    {
     "data": {
      "text/html": [
       "<div>\n",
       "<style scoped>\n",
       "    .dataframe tbody tr th:only-of-type {\n",
       "        vertical-align: middle;\n",
       "    }\n",
       "\n",
       "    .dataframe tbody tr th {\n",
       "        vertical-align: top;\n",
       "    }\n",
       "\n",
       "    .dataframe thead th {\n",
       "        text-align: right;\n",
       "    }\n",
       "</style>\n",
       "<table border=\"1\" class=\"dataframe\">\n",
       "  <thead>\n",
       "    <tr style=\"text-align: right;\">\n",
       "      <th></th>\n",
       "      <th>sentiment</th>\n",
       "      <th>text</th>\n",
       "      <th>hashtag_count</th>\n",
       "    </tr>\n",
       "  </thead>\n",
       "  <tbody>\n",
       "    <tr>\n",
       "      <th>0</th>\n",
       "      <td>0</td>\n",
       "      <td>awww thats a bummer you shoulda got david carr...</td>\n",
       "      <td>0</td>\n",
       "    </tr>\n",
       "    <tr>\n",
       "      <th>1</th>\n",
       "      <td>0</td>\n",
       "      <td>is upset that he cant update his facebook by t...</td>\n",
       "      <td>0</td>\n",
       "    </tr>\n",
       "    <tr>\n",
       "      <th>2</th>\n",
       "      <td>0</td>\n",
       "      <td>i dived many times for the ball managed to sav...</td>\n",
       "      <td>0</td>\n",
       "    </tr>\n",
       "    <tr>\n",
       "      <th>3</th>\n",
       "      <td>0</td>\n",
       "      <td>my whole body feels itchy and like its on fire</td>\n",
       "      <td>0</td>\n",
       "    </tr>\n",
       "    <tr>\n",
       "      <th>4</th>\n",
       "      <td>0</td>\n",
       "      <td>no its not behaving at all im mad why am i her...</td>\n",
       "      <td>0</td>\n",
       "    </tr>\n",
       "    <tr>\n",
       "      <th>...</th>\n",
       "      <td>...</td>\n",
       "      <td>...</td>\n",
       "      <td>...</td>\n",
       "    </tr>\n",
       "    <tr>\n",
       "      <th>1599995</th>\n",
       "      <td>4</td>\n",
       "      <td>just woke up having no school is the best feel...</td>\n",
       "      <td>0</td>\n",
       "    </tr>\n",
       "    <tr>\n",
       "      <th>1599996</th>\n",
       "      <td>4</td>\n",
       "      <td>thewdbcom very cool to hear old walt interviews â</td>\n",
       "      <td>0</td>\n",
       "    </tr>\n",
       "    <tr>\n",
       "      <th>1599997</th>\n",
       "      <td>4</td>\n",
       "      <td>are you ready for your mojo makeover ask me fo...</td>\n",
       "      <td>0</td>\n",
       "    </tr>\n",
       "    <tr>\n",
       "      <th>1599998</th>\n",
       "      <td>4</td>\n",
       "      <td>happy 38th birthday to my boo of alll time tup...</td>\n",
       "      <td>0</td>\n",
       "    </tr>\n",
       "    <tr>\n",
       "      <th>1599999</th>\n",
       "      <td>4</td>\n",
       "      <td>happy</td>\n",
       "      <td>1</td>\n",
       "    </tr>\n",
       "  </tbody>\n",
       "</table>\n",
       "<p>1600000 rows × 3 columns</p>\n",
       "</div>"
      ],
      "text/plain": [
       "         sentiment                                               text  \\\n",
       "0                0  awww thats a bummer you shoulda got david carr...   \n",
       "1                0  is upset that he cant update his facebook by t...   \n",
       "2                0  i dived many times for the ball managed to sav...   \n",
       "3                0     my whole body feels itchy and like its on fire   \n",
       "4                0  no its not behaving at all im mad why am i her...   \n",
       "...            ...                                                ...   \n",
       "1599995          4  just woke up having no school is the best feel...   \n",
       "1599996          4  thewdbcom very cool to hear old walt interviews â   \n",
       "1599997          4  are you ready for your mojo makeover ask me fo...   \n",
       "1599998          4  happy 38th birthday to my boo of alll time tup...   \n",
       "1599999          4                                              happy   \n",
       "\n",
       "         hashtag_count  \n",
       "0                    0  \n",
       "1                    0  \n",
       "2                    0  \n",
       "3                    0  \n",
       "4                    0  \n",
       "...                ...  \n",
       "1599995              0  \n",
       "1599996              0  \n",
       "1599997              0  \n",
       "1599998              0  \n",
       "1599999              1  \n",
       "\n",
       "[1600000 rows x 3 columns]"
      ]
     },
     "execution_count": 11,
     "metadata": {},
     "output_type": "execute_result"
    }
   ],
   "source": [
    "df[['text']] = df['text'].apply(lambda x: pd.Series(clean_text(x)))\n",
    "df"
   ]
  },
  {
   "cell_type": "code",
   "execution_count": 12,
   "metadata": {},
   "outputs": [],
   "source": [
    "num_words=10000\n",
    "max_length = 20\n",
    "\n",
    "tokenizer = Tokenizer(num_words)\n",
    "tokenizer.fit_on_texts(df['text'])\n",
    "sequences = tokenizer.texts_to_sequences(df['text'])\n",
    "\n",
    "X_padded = pad_sequences(sequences, maxlen=max_length, padding='post', truncating='post')\n",
    "\n",
    "y_binary = [1 if label == 4 else 0 for label in df['sentiment']]"
   ]
  },
  {
   "cell_type": "code",
   "execution_count": 13,
   "metadata": {},
   "outputs": [
    {
     "name": "stdout",
     "output_type": "stream",
     "text": [
      "\u001b[1m40000/40000\u001b[0m \u001b[32m━━━━━━━━━━━━━━━━━━━━\u001b[0m\u001b[37m\u001b[0m \u001b[1m223s\u001b[0m 6ms/step - accuracy: 0.7843 - loss: 0.4568 - val_accuracy: 0.8153 - val_loss: 0.4043\n",
      "\u001b[1m10000/10000\u001b[0m \u001b[32m━━━━━━━━━━━━━━━━━━━━\u001b[0m\u001b[37m\u001b[0m \u001b[1m15s\u001b[0m 1ms/step - accuracy: 0.8154 - loss: 0.4034\n"
     ]
    },
    {
     "name": "stderr",
     "output_type": "stream",
     "text": [
      "WARNING:absl:You are saving your model as an HDF5 file via `model.save()` or `keras.saving.save_model(model)`. This file format is considered legacy. We recommend using instead the native Keras format, e.g. `model.save('my_model.keras')` or `keras.saving.save_model(model, 'my_model.keras')`. \n"
     ]
    },
    {
     "name": "stdout",
     "output_type": "stream",
     "text": [
      "Loss, Accuracy: [0.4043040871620178, 0.815262496471405]\n"
     ]
    }
   ],
   "source": [
    "X_train, X_val, y_train, y_val = train_test_split(X_padded, y_binary, test_size=0.2, random_state=42)\n",
    "X_train = X_train.astype('float32')\n",
    "X_val = X_val.astype('float32')\n",
    "y_train = np.array(y_train, dtype=np.int32)\n",
    "y_val = np.array(y_val, dtype=np.int32)\n",
    "\n",
    "embedding_dim = 128\n",
    "\n",
    "# Budowa modelu LSTM\n",
    "model = Sequential([\n",
    "    Embedding(input_dim=num_words, output_dim=embedding_dim),\n",
    "    LSTM(64, return_sequences=False),\n",
    "    Dropout(0.5),\n",
    "    Dense(32, activation='relu'),\n",
    "    Dense(1, activation='sigmoid')\n",
    "])\n",
    "\n",
    "model.compile(optimizer='adam', loss='binary_crossentropy', metrics=['accuracy'])\n",
    "\n",
    "history = model.fit(\n",
    "    X_train, y_train,\n",
    "    validation_data=(X_val, y_val),\n",
    "    epochs=1,\n",
    "    batch_size=32\n",
    ")\n",
    "\n",
    "results = model.evaluate(X_val, y_val)\n",
    "print(\"Loss, Accuracy:\", results)\n",
    "\n",
    "model.save(\"models/lstm_sentiment_binary_model.h5\")"
   ]
  },
  {
   "cell_type": "code",
   "execution_count": 16,
   "metadata": {},
   "outputs": [],
   "source": [
    "X_train_subset = X_train[:1000]\n",
    "y_train_subset = y_train[:1000]"
   ]
  },
  {
   "cell_type": "code",
   "execution_count": 18,
   "metadata": {},
   "outputs": [
    {
     "name": "stdout",
     "output_type": "stream",
     "text": [
      "Trial 10 Complete [00h 01m 52s]\n",
      "val_accuracy: 0.6448437571525574\n",
      "\n",
      "Best val_accuracy So Far: 0.6648468971252441\n",
      "Total elapsed time: 00h 24m 34s\n",
      "Najlepsze hiperparametry:\n",
      "Liczba jednostek LSTM: 32\n",
      "Współczynnik dropout: 0.2\n",
      "Liczba jednostek Dense: 80\n"
     ]
    },
    {
     "ename": "KeyError",
     "evalue": "'learning_rate does not exist.'",
     "output_type": "error",
     "traceback": [
      "\u001b[1;31m---------------------------------------------------------------------------\u001b[0m",
      "\u001b[1;31mKeyError\u001b[0m                                  Traceback (most recent call last)",
      "Cell \u001b[1;32mIn[18], line 39\u001b[0m\n\u001b[0;32m     37\u001b[0m \u001b[38;5;28mprint\u001b[39m(\u001b[38;5;124mf\u001b[39m\u001b[38;5;124m\"\u001b[39m\u001b[38;5;124mWspółczynnik dropout: \u001b[39m\u001b[38;5;132;01m{\u001b[39;00mbest_hps\u001b[38;5;241m.\u001b[39mget(\u001b[38;5;124m'\u001b[39m\u001b[38;5;124mdropout_rate\u001b[39m\u001b[38;5;124m'\u001b[39m)\u001b[38;5;132;01m}\u001b[39;00m\u001b[38;5;124m\"\u001b[39m)\n\u001b[0;32m     38\u001b[0m \u001b[38;5;28mprint\u001b[39m(\u001b[38;5;124mf\u001b[39m\u001b[38;5;124m\"\u001b[39m\u001b[38;5;124mLiczba jednostek Dense: \u001b[39m\u001b[38;5;132;01m{\u001b[39;00mbest_hps\u001b[38;5;241m.\u001b[39mget(\u001b[38;5;124m'\u001b[39m\u001b[38;5;124mdense_units\u001b[39m\u001b[38;5;124m'\u001b[39m)\u001b[38;5;132;01m}\u001b[39;00m\u001b[38;5;124m\"\u001b[39m)\n\u001b[1;32m---> 39\u001b[0m \u001b[38;5;28mprint\u001b[39m(\u001b[38;5;124mf\u001b[39m\u001b[38;5;124m\"\u001b[39m\u001b[38;5;124mLearning rate: \u001b[39m\u001b[38;5;132;01m{\u001b[39;00m\u001b[43mbest_hps\u001b[49m\u001b[38;5;241;43m.\u001b[39;49m\u001b[43mget\u001b[49m\u001b[43m(\u001b[49m\u001b[38;5;124;43m'\u001b[39;49m\u001b[38;5;124;43mlearning_rate\u001b[39;49m\u001b[38;5;124;43m'\u001b[39;49m\u001b[43m)\u001b[49m\u001b[38;5;132;01m}\u001b[39;00m\u001b[38;5;124m\"\u001b[39m)\n\u001b[0;32m     41\u001b[0m \u001b[38;5;66;03m# Trenowanie najlepszego modelu\u001b[39;00m\n\u001b[0;32m     42\u001b[0m best_model \u001b[38;5;241m=\u001b[39m tuner\u001b[38;5;241m.\u001b[39mhypermodel\u001b[38;5;241m.\u001b[39mbuild(best_hps)\n",
      "File \u001b[1;32mc:\\Users\\Radosz\\Desktop\\sem7\\Sentiment_analysys\\venv\\Lib\\site-packages\\keras_tuner\\src\\engine\\hyperparameters\\hyperparameters.py:246\u001b[0m, in \u001b[0;36mHyperParameters.get\u001b[1;34m(self, name)\u001b[0m\n\u001b[0;32m    244\u001b[0m     \u001b[38;5;28;01mraise\u001b[39;00m \u001b[38;5;167;01mValueError\u001b[39;00m(\u001b[38;5;124mf\u001b[39m\u001b[38;5;124m\"\u001b[39m\u001b[38;5;132;01m{\u001b[39;00mname\u001b[38;5;132;01m}\u001b[39;00m\u001b[38;5;124m is currently inactive.\u001b[39m\u001b[38;5;124m\"\u001b[39m)\n\u001b[0;32m    245\u001b[0m \u001b[38;5;28;01melse\u001b[39;00m:\n\u001b[1;32m--> 246\u001b[0m     \u001b[38;5;28;01mraise\u001b[39;00m \u001b[38;5;167;01mKeyError\u001b[39;00m(\u001b[38;5;124mf\u001b[39m\u001b[38;5;124m\"\u001b[39m\u001b[38;5;132;01m{\u001b[39;00mname\u001b[38;5;132;01m}\u001b[39;00m\u001b[38;5;124m does not exist.\u001b[39m\u001b[38;5;124m\"\u001b[39m)\n",
      "\u001b[1;31mKeyError\u001b[0m: 'learning_rate does not exist.'"
     ]
    }
   ],
   "source": [
    "def build_model(hp):\n",
    "    model = Sequential([\n",
    "        Embedding(input_dim=num_words, output_dim=hp.Choice('embedding_dim', [64, 128, 256])),\n",
    "        LSTM(units=hp.Int('lstm_units', min_value=32, max_value=128, step=32), return_sequences=False),\n",
    "        Dropout(rate=hp.Float('dropout_rate', min_value=0.2, max_value=0.5, step=0.1)),\n",
    "        Dense(units=hp.Int('dense_units', min_value=16, max_value=128, step=16), activation='relu'),\n",
    "        Dense(1, activation='sigmoid')\n",
    "    ])\n",
    "    model.compile(\n",
    "        optimizer='adam',\n",
    "        loss='binary_crossentropy',\n",
    "        metrics=['accuracy']\n",
    "    )\n",
    "    return model\n",
    "\n",
    "# Random Search\n",
    "tuner = RandomSearch(\n",
    "    build_model,\n",
    "    objective='val_accuracy',\n",
    "    max_trials=10,  # Liczba prób Random Search\n",
    "    executions_per_trial=1,\n",
    "    directory='random_search_lstm',\n",
    "    project_name='lstm_tuning'\n",
    ")\n",
    "# Dane wejściowe do Random Search\n",
    "tuner.search(\n",
    "    X_train_subset, y_train_subset,\n",
    "    validation_data=(X_val, y_val),\n",
    "    epochs=5,\n",
    "    batch_size=tuner.oracle.hyperparameters.Choice('batch_size', [16, 32, 64])\n",
    ")\n",
    "\n",
    "# Najlepsze hiperparametry\n",
    "best_hps = tuner.get_best_hyperparameters(num_trials=1)[0]\n",
    "print(f\"Najlepsze hiperparametry:\")\n",
    "print(f\"Liczba jednostek LSTM: {best_hps.get('lstm_units')}\")\n",
    "print(f\"Współczynnik dropout: {best_hps.get('dropout_rate')}\")\n",
    "print(f\"Liczba jednostek Dense: {best_hps.get('dense_units')}\")\n",
    "# print(f\"Learning rate: {best_hps.get('learning_rate')}\")\n"
   ]
  },
  {
   "cell_type": "code",
   "execution_count": 15,
   "metadata": {},
   "outputs": [
    {
     "name": "stdout",
     "output_type": "stream",
     "text": [
      "\u001b[1m40000/40000\u001b[0m \u001b[32m━━━━━━━━━━━━━━━━━━━━\u001b[0m\u001b[37m\u001b[0m \u001b[1m138s\u001b[0m 3ms/step - accuracy: 0.7769 - loss: 0.4672 - val_accuracy: 0.8076 - val_loss: 0.4237\n",
      "\u001b[1m10000/10000\u001b[0m \u001b[32m━━━━━━━━━━━━━━━━━━━━\u001b[0m\u001b[37m\u001b[0m \u001b[1m7s\u001b[0m 747us/step - accuracy: 0.8073 - loss: 0.4232\n"
     ]
    },
    {
     "name": "stderr",
     "output_type": "stream",
     "text": [
      "WARNING:absl:You are saving your model as an HDF5 file via `model.save()` or `keras.saving.save_model(model)`. This file format is considered legacy. We recommend using instead the native Keras format, e.g. `model.save('my_model.keras')` or `keras.saving.save_model(model, 'my_model.keras')`. \n"
     ]
    },
    {
     "name": "stdout",
     "output_type": "stream",
     "text": [
      "Loss, Accuracy: [0.42367520928382874, 0.8075718879699707]\n"
     ]
    }
   ],
   "source": [
    "# Budowa modelu CNN\n",
    "model = Sequential([\n",
    "    Embedding(input_dim=num_words, output_dim=embedding_dim),\n",
    "    Conv1D(filters=128, kernel_size=3, activation='relu'),\n",
    "    GlobalMaxPooling1D(),\n",
    "    Dropout(0.5), \n",
    "    Dense(32, activation='relu'), \n",
    "    Dense(1, activation='sigmoid') \n",
    "])\n",
    "\n",
    "model.compile(optimizer='adam', loss='binary_crossentropy', metrics=['accuracy'])\n",
    "\n",
    "# Trenowanie modelu\n",
    "history = model.fit(\n",
    "    X_train, y_train,\n",
    "    validation_data=(X_val, y_val),\n",
    "    epochs=1,\n",
    "    batch_size=32\n",
    ")\n",
    "\n",
    "# Ewaluacja modelu\n",
    "results = model.evaluate(X_val, y_val)\n",
    "print(\"Loss, Accuracy:\", results)\n",
    "\n",
    "# Zapis modelu\n",
    "model.save(\"models/cnn_sentiment_binary_model.h5\")\n"
   ]
  },
  {
   "cell_type": "code",
   "execution_count": 33,
   "metadata": {},
   "outputs": [
    {
     "name": "stdout",
     "output_type": "stream",
     "text": [
      "Reloading Tuner from random_search_cnn\\cnn_tuning\\tuner0.json\n",
      "Najlepsze hiperparametry:\n",
      "Liczba filtrów: 192\n",
      "Rozmiar kernela: 3\n",
      "Współczynnik dropout: 0.4\n",
      "Liczba jednostek Dense: 112\n"
     ]
    }
   ],
   "source": [
    "# Funkcja budowy modelu CNN\n",
    "def build_cnn_model(hp):\n",
    "    model = Sequential([\n",
    "        Embedding(input_dim=num_words, output_dim=hp.Choice('embedding_dim', [64, 128, 256])),\n",
    "        Conv1D(\n",
    "            filters=hp.Int('filters', min_value=64, max_value=256, step=64),\n",
    "            kernel_size=hp.Choice('kernel_size', [3, 5, 7]),\n",
    "            activation='relu'\n",
    "        ),\n",
    "        GlobalMaxPooling1D(),\n",
    "        Dropout(rate=hp.Float('dropout_rate', min_value=0.2, max_value=0.5, step=0.1)),\n",
    "        Dense(units=hp.Int('dense_units', min_value=16, max_value=128, step=16), activation='relu'),\n",
    "        Dense(1, activation='sigmoid')\n",
    "    ])\n",
    "    model.compile(\n",
    "        optimizer='adam',\n",
    "        loss='binary_crossentropy',\n",
    "        metrics=['accuracy']\n",
    "    )\n",
    "    return model\n",
    "\n",
    "# Random Search\n",
    "tuner_cnn = RandomSearch(\n",
    "    build_cnn_model,\n",
    "    objective='val_accuracy',\n",
    "    max_trials=10,  # Liczba prób Random Search\n",
    "    executions_per_trial=1,\n",
    "    directory='random_search_cnn',\n",
    "    project_name='cnn_tuning'\n",
    ")\n",
    "\n",
    "# Dane wejściowe do Random Search\n",
    "tuner_cnn.search(\n",
    "    X_train_subset, y_train_subset,\n",
    "    validation_data=(X_val, y_val),\n",
    "    epochs=5,\n",
    "    batch_size=tuner.oracle.hyperparameters.Choice('batch_size', [16, 32, 64])\n",
    ")\n",
    "\n",
    "# Najlepsze hiperparametry\n",
    "best_hps_cnn = tuner_cnn.get_best_hyperparameters(num_trials=1)[0]\n",
    "\n",
    "print(f\"Najlepsze hiperparametry:\")\n",
    "print(f\"Liczba filtrów: {best_hps_cnn.get('filters')}\")\n",
    "print(f\"Rozmiar kernela: {best_hps_cnn.get('kernel_size')}\")\n",
    "print(f\"Współczynnik dropout: {best_hps_cnn.get('dropout_rate')}\")\n",
    "print(f\"Liczba jednostek Dense: {best_hps_cnn.get('dense_units')}\")\n",
    "#print(f\"Batch size: {best_hps_cnn.get('batch_size')}\")\n",
    "#print(f\"Learning rate: {best_hps.get('learning_rate')}\")\n",
    "\n",
    "\n"
   ]
  },
  {
   "cell_type": "code",
   "execution_count": 16,
   "metadata": {},
   "outputs": [
    {
     "name": "stdout",
     "output_type": "stream",
     "text": [
      "\u001b[1m40000/40000\u001b[0m \u001b[32m━━━━━━━━━━━━━━━━━━━━\u001b[0m\u001b[37m\u001b[0m \u001b[1m296s\u001b[0m 7ms/step - accuracy: 0.7815 - loss: 0.4550 - val_accuracy: 0.8159 - val_loss: 0.4048\n",
      "\u001b[1m10000/10000\u001b[0m \u001b[32m━━━━━━━━━━━━━━━━━━━━\u001b[0m\u001b[37m\u001b[0m \u001b[1m21s\u001b[0m 2ms/step - accuracy: 0.8157 - loss: 0.4043\n"
     ]
    },
    {
     "name": "stderr",
     "output_type": "stream",
     "text": [
      "WARNING:absl:You are saving your model as an HDF5 file via `model.save()` or `keras.saving.save_model(model)`. This file format is considered legacy. We recommend using instead the native Keras format, e.g. `model.save('my_model.keras')` or `keras.saving.save_model(model, 'my_model.keras')`. \n"
     ]
    },
    {
     "name": "stdout",
     "output_type": "stream",
     "text": [
      "Loss, Accuracy: [0.4048399031162262, 0.8159468770027161]\n"
     ]
    }
   ],
   "source": [
    "from tensorflow.keras.models import Sequential\n",
    "from tensorflow.keras.layers import Embedding, GRU, Dense, Dropout\n",
    "\n",
    "# Budowa modelu GRU\n",
    "model_gru = Sequential([\n",
    "    Embedding(input_dim=num_words, output_dim=embedding_dim),  # Warstwa osadzeń\n",
    "    GRU(128, return_sequences=False),  # Warstwa GRU, 128 jednostek\n",
    "    Dropout(0.5),  # Regularizacja\n",
    "    Dense(32, activation='relu'),  # Warstwa ukryta\n",
    "    Dense(1, activation='sigmoid')  # Warstwa wyjściowa\n",
    "])\n",
    "\n",
    "# Kompilacja modelu\n",
    "model_gru.compile(optimizer='adam', loss='binary_crossentropy', metrics=['accuracy'])\n",
    "\n",
    "# Trenowanie modelu\n",
    "history_gru = model_gru.fit(\n",
    "    X_train, y_train,\n",
    "    validation_data=(X_val, y_val),\n",
    "    epochs=1,  # Liczba epok\n",
    "    batch_size=32  # Rozmiar wsadu\n",
    ")\n",
    "\n",
    "# Ewaluacja modelu\n",
    "results_gru = model_gru.evaluate(X_val, y_val)\n",
    "print(\"Loss, Accuracy:\", results_gru)\n",
    "\n",
    "# Zapis modelu\n",
    "model_gru.save(\"models/gru_sentiment_binary_model.h5\")\n"
   ]
  },
  {
   "cell_type": "code",
   "execution_count": 36,
   "metadata": {},
   "outputs": [
    {
     "name": "stdout",
     "output_type": "stream",
     "text": [
      "Trial 10 Complete [00h 02m 09s]\n",
      "val_accuracy: 0.6549875140190125\n",
      "\n",
      "Best val_accuracy So Far: 0.6549875140190125\n",
      "Total elapsed time: 00h 31m 40s\n",
      "Najlepsze hiperparametry:\n",
      "Wymiary osadzeń: 256\n",
      "Liczba jednostek GRU: 64\n",
      "Współczynnik dropout: 0.2\n",
      "Liczba jednostek Dense: 64\n"
     ]
    }
   ],
   "source": [
    "def build_gru_model(hp):\n",
    "    model = Sequential([\n",
    "        Embedding(\n",
    "            input_dim=num_words, \n",
    "            output_dim=hp.Choice('embedding_dim', [64, 128, 256])  # Testowane wymiary osadzeń\n",
    "        ),\n",
    "        GRU(\n",
    "            units=hp.Int('gru_units', min_value=64, max_value=256, step=64),  # Liczba jednostek GRU\n",
    "            return_sequences=False\n",
    "        ),\n",
    "        Dropout(rate=hp.Float('dropout_rate', min_value=0.2, max_value=0.5, step=0.1)),  # Współczynnik Dropout\n",
    "        Dense(\n",
    "            units=hp.Int('dense_units', min_value=16, max_value=128, step=16), \n",
    "            activation='relu'\n",
    "        ),\n",
    "        Dense(1, activation='sigmoid')  # Warstwa wyjściowa\n",
    "    ])\n",
    "    model.compile(\n",
    "        optimizer='adam',  # Testowane learning rates\n",
    "        loss='binary_crossentropy',\n",
    "        metrics=['accuracy']\n",
    "    )\n",
    "    return model\n",
    "\n",
    "# Random Search\n",
    "tuner_gru = RandomSearch(\n",
    "    build_gru_model,\n",
    "    objective='val_accuracy',  # Cel optymalizacji\n",
    "    max_trials=10,  # Liczba prób Random Search\n",
    "    executions_per_trial=1,  # Liczba wykonania na próbę\n",
    "    directory='random_search_gru',\n",
    "    project_name='gru_tuning'\n",
    ")\n",
    "\n",
    "# Przeprowadzenie wyszukiwania\n",
    "tuner_gru.search(\n",
    "    X_train_subset, y_train_subset,\n",
    "    validation_data=(X_val, y_val),\n",
    "    epochs=5,\n",
    "    batch_size=tuner.oracle.hyperparameters.Choice('batch_size', [16, 32, 64])  # Testowane rozmiary wsadów\n",
    ")\n",
    "\n",
    "# Pobranie najlepszych hiperparametrów\n",
    "best_hps_gru = tuner_gru.get_best_hyperparameters(num_trials=1)[0]\n",
    "\n",
    "print(f\"Najlepsze hiperparametry:\")\n",
    "print(f\"Wymiary osadzeń: {best_hps_gru.get('embedding_dim')}\")\n",
    "print(f\"Liczba jednostek GRU: {best_hps_gru.get('gru_units')}\")\n",
    "print(f\"Współczynnik dropout: {best_hps_gru.get('dropout_rate')}\")\n",
    "print(f\"Liczba jednostek Dense: {best_hps_gru.get('dense_units')}\")\n",
    "# print(f\"Learning rate: {best_hps_gru.get('learning_rate')}\")\n",
    "# print(f\"Batch size: {best_hps_gru.get('batch_size')}\")\n",
    "\n"
   ]
  },
  {
   "cell_type": "code",
   "execution_count": 38,
   "metadata": {},
   "outputs": [
    {
     "name": "stdout",
     "output_type": "stream",
     "text": [
      "Epoch 1/10\n",
      "\u001b[1m40000/40000\u001b[0m \u001b[32m━━━━━━━━━━━━━━━━━━━━\u001b[0m\u001b[37m\u001b[0m \u001b[1m377s\u001b[0m 9ms/step - accuracy: 0.7827 - loss: 0.4511 - val_accuracy: 0.8168 - val_loss: 0.4020\n",
      "Epoch 2/10\n",
      "\u001b[1m40000/40000\u001b[0m \u001b[32m━━━━━━━━━━━━━━━━━━━━\u001b[0m\u001b[37m\u001b[0m \u001b[1m356s\u001b[0m 9ms/step - accuracy: 0.8233 - loss: 0.3898 - val_accuracy: 0.8191 - val_loss: 0.3970\n",
      "Epoch 3/10\n",
      "\u001b[1m40000/40000\u001b[0m \u001b[32m━━━━━━━━━━━━━━━━━━━━\u001b[0m\u001b[37m\u001b[0m \u001b[1m366s\u001b[0m 9ms/step - accuracy: 0.8313 - loss: 0.3763 - val_accuracy: 0.8200 - val_loss: 0.3970\n",
      "Epoch 4/10\n",
      "\u001b[1m40000/40000\u001b[0m \u001b[32m━━━━━━━━━━━━━━━━━━━━\u001b[0m\u001b[37m\u001b[0m \u001b[1m350s\u001b[0m 9ms/step - accuracy: 0.8376 - loss: 0.3662 - val_accuracy: 0.8193 - val_loss: 0.3999\n",
      "Epoch 5/10\n",
      "\u001b[1m40000/40000\u001b[0m \u001b[32m━━━━━━━━━━━━━━━━━━━━\u001b[0m\u001b[37m\u001b[0m \u001b[1m358s\u001b[0m 9ms/step - accuracy: 0.8405 - loss: 0.3595 - val_accuracy: 0.8187 - val_loss: 0.4047\n",
      "Epoch 6/10\n",
      "\u001b[1m40000/40000\u001b[0m \u001b[32m━━━━━━━━━━━━━━━━━━━━\u001b[0m\u001b[37m\u001b[0m \u001b[1m361s\u001b[0m 9ms/step - accuracy: 0.8421 - loss: 0.3566 - val_accuracy: 0.8169 - val_loss: 0.4036\n",
      "Epoch 7/10\n",
      "\u001b[1m40000/40000\u001b[0m \u001b[32m━━━━━━━━━━━━━━━━━━━━\u001b[0m\u001b[37m\u001b[0m \u001b[1m361s\u001b[0m 9ms/step - accuracy: 0.8433 - loss: 0.3543 - val_accuracy: 0.8170 - val_loss: 0.4045\n",
      "Epoch 8/10\n",
      "\u001b[1m40000/40000\u001b[0m \u001b[32m━━━━━━━━━━━━━━━━━━━━\u001b[0m\u001b[37m\u001b[0m \u001b[1m362s\u001b[0m 9ms/step - accuracy: 0.8438 - loss: 0.3540 - val_accuracy: 0.8161 - val_loss: 0.4078\n",
      "Epoch 9/10\n",
      "\u001b[1m40000/40000\u001b[0m \u001b[32m━━━━━━━━━━━━━━━━━━━━\u001b[0m\u001b[37m\u001b[0m \u001b[1m360s\u001b[0m 9ms/step - accuracy: 0.8445 - loss: 0.3525 - val_accuracy: 0.8159 - val_loss: 0.4101\n",
      "Epoch 10/10\n",
      "\u001b[1m40000/40000\u001b[0m \u001b[32m━━━━━━━━━━━━━━━━━━━━\u001b[0m\u001b[37m\u001b[0m \u001b[1m358s\u001b[0m 9ms/step - accuracy: 0.8446 - loss: 0.3519 - val_accuracy: 0.8153 - val_loss: 0.4068\n",
      "\u001b[1m10000/10000\u001b[0m \u001b[32m━━━━━━━━━━━━━━━━━━━━\u001b[0m\u001b[37m\u001b[0m \u001b[1m14s\u001b[0m 1ms/step - accuracy: 0.8151 - loss: 0.4071\n"
     ]
    },
    {
     "name": "stderr",
     "output_type": "stream",
     "text": [
      "WARNING:absl:You are saving your model as an HDF5 file via `model.save()` or `keras.saving.save_model(model)`. This file format is considered legacy. We recommend using instead the native Keras format, e.g. `model.save('my_model.keras')` or `keras.saving.save_model(model, 'my_model.keras')`. \n"
     ]
    },
    {
     "name": "stdout",
     "output_type": "stream",
     "text": [
      "Final Loss, Accuracy: [0.40678974986076355, 0.8153093457221985]\n"
     ]
    }
   ],
   "source": [
    "# Trenowanie najlepszego modelu GRU\n",
    "best_model_gru = tuner_gru.hypermodel.build(best_hps)\n",
    "history_gru = best_model_gru.fit(\n",
    "    X_train, y_train,\n",
    "    validation_data=(X_val, y_val),\n",
    "    epochs=10,\n",
    "    batch_size=best_hps.get('batch_size')  # Najlepszy batch size\n",
    ")\n",
    "\n",
    "# Ewaluacja\n",
    "results_gru = best_model_gru.evaluate(X_val, y_val)\n",
    "print(\"Final Loss, Accuracy:\", results_gru)\n",
    "\n",
    "# Zapis najlepszego modelu\n",
    "best_model_gru.save(\"models/best_gru_sentiment_model.h5\")"
   ]
  },
  {
   "cell_type": "code",
   "execution_count": 39,
   "metadata": {},
   "outputs": [
    {
     "name": "stdout",
     "output_type": "stream",
     "text": [
      "Epoch 1/10\n",
      "\u001b[1m40000/40000\u001b[0m \u001b[32m━━━━━━━━━━━━━━━━━━━━\u001b[0m\u001b[37m\u001b[0m \u001b[1m348s\u001b[0m 9ms/step - accuracy: 0.7813 - loss: 0.4595 - val_accuracy: 0.8099 - val_loss: 0.4122\n",
      "Epoch 2/10\n",
      "\u001b[1m40000/40000\u001b[0m \u001b[32m━━━━━━━━━━━━━━━━━━━━\u001b[0m\u001b[37m\u001b[0m \u001b[1m345s\u001b[0m 9ms/step - accuracy: 0.8143 - loss: 0.4055 - val_accuracy: 0.8142 - val_loss: 0.4089\n",
      "Epoch 3/10\n",
      "\u001b[1m40000/40000\u001b[0m \u001b[32m━━━━━━━━━━━━━━━━━━━━\u001b[0m\u001b[37m\u001b[0m \u001b[1m346s\u001b[0m 9ms/step - accuracy: 0.8243 - loss: 0.3885 - val_accuracy: 0.8151 - val_loss: 0.4037\n",
      "Epoch 4/10\n",
      "\u001b[1m40000/40000\u001b[0m \u001b[32m━━━━━━━━━━━━━━━━━━━━\u001b[0m\u001b[37m\u001b[0m \u001b[1m334s\u001b[0m 8ms/step - accuracy: 0.8296 - loss: 0.3779 - val_accuracy: 0.8152 - val_loss: 0.4042\n",
      "Epoch 5/10\n",
      "\u001b[1m40000/40000\u001b[0m \u001b[32m━━━━━━━━━━━━━━━━━━━━\u001b[0m\u001b[37m\u001b[0m \u001b[1m335s\u001b[0m 8ms/step - accuracy: 0.8357 - loss: 0.3676 - val_accuracy: 0.8139 - val_loss: 0.4065\n",
      "Epoch 6/10\n",
      "\u001b[1m40000/40000\u001b[0m \u001b[32m━━━━━━━━━━━━━━━━━━━━\u001b[0m\u001b[37m\u001b[0m \u001b[1m2817s\u001b[0m 70ms/step - accuracy: 0.8407 - loss: 0.3585 - val_accuracy: 0.8139 - val_loss: 0.4083\n",
      "Epoch 7/10\n",
      "\u001b[1m40000/40000\u001b[0m \u001b[32m━━━━━━━━━━━━━━━━━━━━\u001b[0m\u001b[37m\u001b[0m \u001b[1m363s\u001b[0m 9ms/step - accuracy: 0.8454 - loss: 0.3496 - val_accuracy: 0.8128 - val_loss: 0.4096\n",
      "Epoch 8/10\n",
      "\u001b[1m40000/40000\u001b[0m \u001b[32m━━━━━━━━━━━━━━━━━━━━\u001b[0m\u001b[37m\u001b[0m \u001b[1m355s\u001b[0m 9ms/step - accuracy: 0.8490 - loss: 0.3426 - val_accuracy: 0.8106 - val_loss: 0.4137\n",
      "Epoch 9/10\n",
      "\u001b[1m40000/40000\u001b[0m \u001b[32m━━━━━━━━━━━━━━━━━━━━\u001b[0m\u001b[37m\u001b[0m \u001b[1m353s\u001b[0m 9ms/step - accuracy: 0.8526 - loss: 0.3355 - val_accuracy: 0.8107 - val_loss: 0.4164\n",
      "Epoch 10/10\n",
      "\u001b[1m40000/40000\u001b[0m \u001b[32m━━━━━━━━━━━━━━━━━━━━\u001b[0m\u001b[37m\u001b[0m \u001b[1m353s\u001b[0m 9ms/step - accuracy: 0.8563 - loss: 0.3283 - val_accuracy: 0.8093 - val_loss: 0.4246\n",
      "\u001b[1m10000/10000\u001b[0m \u001b[32m━━━━━━━━━━━━━━━━━━━━\u001b[0m\u001b[37m\u001b[0m \u001b[1m8s\u001b[0m 771us/step - accuracy: 0.8091 - loss: 0.4245\n"
     ]
    },
    {
     "name": "stderr",
     "output_type": "stream",
     "text": [
      "WARNING:absl:You are saving your model as an HDF5 file via `model.save()` or `keras.saving.save_model(model)`. This file format is considered legacy. We recommend using instead the native Keras format, e.g. `model.save('my_model.keras')` or `keras.saving.save_model(model, 'my_model.keras')`. \n"
     ]
    },
    {
     "name": "stdout",
     "output_type": "stream",
     "text": [
      "Final Loss, Accuracy: [0.42461884021759033, 0.8093093633651733]\n"
     ]
    }
   ],
   "source": [
    "# Trenowanie najlepszego modelu CNN\n",
    "best_model_cnn = tuner_cnn.hypermodel.build(best_hps)\n",
    "history_cnn = best_model_cnn.fit(\n",
    "    X_train, y_train,\n",
    "    validation_data=(X_val, y_val),\n",
    "    epochs=10,\n",
    "    batch_size=best_hps.get('batch_size')\n",
    ")\n",
    "\n",
    "# Ewaluacja\n",
    "results_cnn = best_model_cnn.evaluate(X_val, y_val)\n",
    "print(\"Final Loss, Accuracy:\", results_cnn)\n",
    "\n",
    "# Zapis modelu\n",
    "best_model_cnn.save(\"models/best_cnn_sentiment_model.h5\")"
   ]
  },
  {
   "cell_type": "code",
   "execution_count": null,
   "metadata": {},
   "outputs": [
    {
     "name": "stdout",
     "output_type": "stream",
     "text": [
      "Epoch 1/10\n",
      "\u001b[1m40000/40000\u001b[0m \u001b[32m━━━━━━━━━━━━━━━━━━━━\u001b[0m\u001b[37m\u001b[0m \u001b[1m403s\u001b[0m 10ms/step - accuracy: 0.7812 - loss: 0.4596 - val_accuracy: 0.8098 - val_loss: 0.4142\n",
      "Epoch 2/10\n",
      "\u001b[1m40000/40000\u001b[0m \u001b[32m━━━━━━━━━━━━━━━━━━━━\u001b[0m\u001b[37m\u001b[0m \u001b[1m401s\u001b[0m 10ms/step - accuracy: 0.8150 - loss: 0.4056 - val_accuracy: 0.8136 - val_loss: 0.4069\n",
      "Epoch 3/10\n",
      "\u001b[1m40000/40000\u001b[0m \u001b[32m━━━━━━━━━━━━━━━━━━━━\u001b[0m\u001b[37m\u001b[0m \u001b[1m377s\u001b[0m 9ms/step - accuracy: 0.8239 - loss: 0.3893 - val_accuracy: 0.8149 - val_loss: 0.4051\n",
      "Epoch 4/10\n",
      "\u001b[1m40000/40000\u001b[0m \u001b[32m━━━━━━━━━━━━━━━━━━━━\u001b[0m\u001b[37m\u001b[0m \u001b[1m407s\u001b[0m 10ms/step - accuracy: 0.8304 - loss: 0.3769 - val_accuracy: 0.8151 - val_loss: 0.4053\n",
      "Epoch 5/10\n",
      "\u001b[1m40000/40000\u001b[0m \u001b[32m━━━━━━━━━━━━━━━━━━━━\u001b[0m\u001b[37m\u001b[0m \u001b[1m405s\u001b[0m 10ms/step - accuracy: 0.8364 - loss: 0.3666 - val_accuracy: 0.8128 - val_loss: 0.4094\n",
      "Epoch 6/10\n",
      "\u001b[1m40000/40000\u001b[0m \u001b[32m━━━━━━━━━━━━━━━━━━━━\u001b[0m\u001b[37m\u001b[0m \u001b[1m397s\u001b[0m 10ms/step - accuracy: 0.8417 - loss: 0.3577 - val_accuracy: 0.8149 - val_loss: 0.4063\n",
      "Epoch 7/10\n",
      "\u001b[1m40000/40000\u001b[0m \u001b[32m━━━━━━━━━━━━━━━━━━━━\u001b[0m\u001b[37m\u001b[0m \u001b[1m400s\u001b[0m 10ms/step - accuracy: 0.8450 - loss: 0.3498 - val_accuracy: 0.8146 - val_loss: 0.4103\n",
      "Epoch 8/10\n",
      "\u001b[1m40000/40000\u001b[0m \u001b[32m━━━━━━━━━━━━━━━━━━━━\u001b[0m\u001b[37m\u001b[0m \u001b[1m416s\u001b[0m 10ms/step - accuracy: 0.8491 - loss: 0.3425 - val_accuracy: 0.8134 - val_loss: 0.4109\n",
      "Epoch 9/10\n",
      "\u001b[1m40000/40000\u001b[0m \u001b[32m━━━━━━━━━━━━━━━━━━━━\u001b[0m\u001b[37m\u001b[0m \u001b[1m414s\u001b[0m 10ms/step - accuracy: 0.8525 - loss: 0.3353 - val_accuracy: 0.8130 - val_loss: 0.4187\n",
      "Epoch 10/10\n",
      "\u001b[1m40000/40000\u001b[0m \u001b[32m━━━━━━━━━━━━━━━━━━━━\u001b[0m\u001b[37m\u001b[0m \u001b[1m391s\u001b[0m 10ms/step - accuracy: 0.8561 - loss: 0.3288 - val_accuracy: 0.8116 - val_loss: 0.4196\n",
      "\u001b[1m10000/10000\u001b[0m \u001b[32m━━━━━━━━━━━━━━━━━━━━\u001b[0m\u001b[37m\u001b[0m \u001b[1m8s\u001b[0m 813us/step - accuracy: 0.8115 - loss: 0.4189\n"
     ]
    },
    {
     "name": "stderr",
     "output_type": "stream",
     "text": [
      "WARNING:absl:You are saving your model as an HDF5 file via `model.save()` or `keras.saving.save_model(model)`. This file format is considered legacy. We recommend using instead the native Keras format, e.g. `model.save('my_model.keras')` or `keras.saving.save_model(model, 'my_model.keras')`. \n"
     ]
    },
    {
     "name": "stdout",
     "output_type": "stream",
     "text": [
      "Final Loss, Accuracy: [0.41957002878189087, 0.8116124868392944]\n"
     ]
    }
   ],
   "source": [
    "\n",
    "# Trenowanie najlepszego modelu lstm\n",
    "best_model = tuner.hypermodel.build(best_hps)\n",
    "history = best_model.fit(\n",
    "    X_train, y_train,\n",
    "    validation_data=(X_val, y_val),\n",
    "    epochs=10,\n",
    "    batch_size=best_hps.get('batch_size')  # Wybór batch_size z hiperparametrów\n",
    ")\n",
    "\n",
    "# Ewaluacja\n",
    "results = best_model.evaluate(X_val, y_val)\n",
    "print(\"Final Loss, Accuracy:\", results)\n",
    "\n",
    "# Zapis modelu\n",
    "best_model.save(\"models/best_lstm_sentiment_model.h5\")"
   ]
  }
 ],
 "metadata": {
  "kernelspec": {
   "display_name": "venv",
   "language": "python",
   "name": "python3"
  },
  "language_info": {
   "codemirror_mode": {
    "name": "ipython",
    "version": 3
   },
   "file_extension": ".py",
   "mimetype": "text/x-python",
   "name": "python",
   "nbconvert_exporter": "python",
   "pygments_lexer": "ipython3",
   "version": "3.11.2"
  }
 },
 "nbformat": 4,
 "nbformat_minor": 2
}
